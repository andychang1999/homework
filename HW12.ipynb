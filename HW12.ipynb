{
  "cells": [
    {
      "cell_type": "markdown",
      "metadata": {
        "id": "Cjpsrz0y6baB"
      },
      "source": [
        "### Processing words as a sequence: The sequence model approach"
      ]
    },
    {
      "cell_type": "markdown",
      "metadata": {
        "id": "Xpirpazx6baD"
      },
      "source": [
        "#### A first practical example"
      ]
    },
    {
      "cell_type": "markdown",
      "metadata": {
        "id": "Ng97YwO26baF"
      },
      "source": [
        "**Downloading the data**"
      ]
    },
    {
      "cell_type": "code",
      "execution_count": 1,
      "metadata": {
        "colab": {
          "base_uri": "https://localhost:8080/"
        },
        "id": "RV9XZH0k6baG",
        "outputId": "20687649-95e4-4419-904c-44ae13fa2451"
      },
      "outputs": [
        {
          "output_type": "stream",
          "name": "stdout",
          "text": [
            "  % Total    % Received % Xferd  Average Speed   Time    Time     Time  Current\n",
            "                                 Dload  Upload   Total   Spent    Left  Speed\n",
            "100 80.2M  100 80.2M    0     0  10.5M      0  0:00:07  0:00:07 --:--:-- 16.1M\n"
          ]
        }
      ],
      "source": [
        "!curl -O https://ai.stanford.edu/~amaas/data/sentiment/aclImdb_v1.tar.gz\n",
        "!tar -xf aclImdb_v1.tar.gz\n",
        "!rm -r aclImdb/train/unsup"
      ]
    },
    {
      "cell_type": "markdown",
      "metadata": {
        "id": "Xgm9_YWA6baJ"
      },
      "source": [
        "**Preparing the data**"
      ]
    },
    {
      "cell_type": "code",
      "execution_count": 2,
      "metadata": {
        "colab": {
          "base_uri": "https://localhost:8080/"
        },
        "id": "9yo3F9JF6baK",
        "outputId": "84944c2c-87b6-4c69-8654-ed7e38d8bd85"
      },
      "outputs": [
        {
          "output_type": "stream",
          "name": "stdout",
          "text": [
            "Found 20000 files belonging to 2 classes.\n",
            "Found 5000 files belonging to 2 classes.\n",
            "Found 25000 files belonging to 2 classes.\n"
          ]
        }
      ],
      "source": [
        "import os, pathlib, shutil, random\n",
        "from tensorflow import keras\n",
        "batch_size = 32\n",
        "base_dir = pathlib.Path(\"aclImdb\")\n",
        "val_dir = base_dir / \"val\"\n",
        "train_dir = base_dir / \"train\"\n",
        "for category in (\"neg\", \"pos\"):\n",
        "    os.makedirs(val_dir / category)\n",
        "    files = os.listdir(train_dir / category)\n",
        "    random.Random(1337).shuffle(files)\n",
        "    num_val_samples = int(0.2 * len(files))\n",
        "    val_files = files[-num_val_samples:]\n",
        "    for fname in val_files:\n",
        "        shutil.move(train_dir / category / fname,\n",
        "                    val_dir / category / fname)\n",
        "\n",
        "train_ds = keras.utils.text_dataset_from_directory(\n",
        "    \"aclImdb/train\", batch_size=batch_size\n",
        ")\n",
        "val_ds = keras.utils.text_dataset_from_directory(\n",
        "    \"aclImdb/val\", batch_size=batch_size\n",
        ")\n",
        "test_ds = keras.utils.text_dataset_from_directory(\n",
        "    \"aclImdb/test\", batch_size=batch_size\n",
        ")\n",
        "text_only_train_ds = train_ds.map(lambda x, y: x)"
      ]
    },
    {
      "cell_type": "markdown",
      "metadata": {
        "id": "pPezxRcd6baM"
      },
      "source": [
        "**Preparing integer sequence datasets**"
      ]
    },
    {
      "cell_type": "code",
      "execution_count": 3,
      "metadata": {
        "id": "iI-5oht76baN"
      },
      "outputs": [],
      "source": [
        "from tensorflow.keras import layers\n",
        "\n",
        "max_length = 600\n",
        "max_tokens = 20000\n",
        "text_vectorization = layers.TextVectorization(\n",
        "    max_tokens=max_tokens,\n",
        "    output_mode=\"int\",\n",
        "    output_sequence_length=max_length,\n",
        ")\n",
        "text_vectorization.adapt(text_only_train_ds)\n",
        "\n",
        "int_train_ds = train_ds.map(\n",
        "    lambda x, y: (text_vectorization(x), y),\n",
        "    num_parallel_calls=4)\n",
        "int_val_ds = val_ds.map(\n",
        "    lambda x, y: (text_vectorization(x), y),\n",
        "    num_parallel_calls=4)\n",
        "int_test_ds = test_ds.map(\n",
        "    lambda x, y: (text_vectorization(x), y),\n",
        "    num_parallel_calls=4)"
      ]
    },
    {
      "cell_type": "markdown",
      "metadata": {
        "id": "UurbLOjm6baP"
      },
      "source": [
        "**A sequence model built on one-hot encoded vector sequences**"
      ]
    },
    {
      "cell_type": "code",
      "execution_count": 4,
      "metadata": {
        "colab": {
          "base_uri": "https://localhost:8080/"
        },
        "id": "usxLeHUI6baQ",
        "outputId": "60406d7f-c602-4a4e-ca32-71a26ff7f925"
      },
      "outputs": [
        {
          "output_type": "stream",
          "name": "stdout",
          "text": [
            "Model: \"model\"\n",
            "_________________________________________________________________\n",
            " Layer (type)                Output Shape              Param #   \n",
            "=================================================================\n",
            " input_1 (InputLayer)        [(None, None)]            0         \n",
            "                                                                 \n",
            " tf.one_hot (TFOpLambda)     (None, None, 20000)       0         \n",
            "                                                                 \n",
            " bidirectional (Bidirectiona  (None, 64)               5128448   \n",
            " l)                                                              \n",
            "                                                                 \n",
            " dropout (Dropout)           (None, 64)                0         \n",
            "                                                                 \n",
            " dense (Dense)               (None, 1)                 65        \n",
            "                                                                 \n",
            "=================================================================\n",
            "Total params: 5,128,513\n",
            "Trainable params: 5,128,513\n",
            "Non-trainable params: 0\n",
            "_________________________________________________________________\n"
          ]
        }
      ],
      "source": [
        "import tensorflow as tf\n",
        "inputs = keras.Input(shape=(None,), dtype=\"int64\")\n",
        "embedded = tf.one_hot(inputs, depth=max_tokens)\n",
        "x = layers.Bidirectional(layers.LSTM(32))(embedded)\n",
        "x = layers.Dropout(0.5)(x)\n",
        "outputs = layers.Dense(1, activation=\"sigmoid\")(x)\n",
        "model = keras.Model(inputs, outputs)\n",
        "model.compile(optimizer=\"rmsprop\",\n",
        "              loss=\"binary_crossentropy\",\n",
        "              metrics=[\"accuracy\"])\n",
        "model.summary()"
      ]
    },
    {
      "cell_type": "markdown",
      "metadata": {
        "id": "M61E_R5p6baR"
      },
      "source": [
        "**Training a first basic sequence model**"
      ]
    },
    {
      "cell_type": "code",
      "execution_count": 5,
      "metadata": {
        "colab": {
          "base_uri": "https://localhost:8080/"
        },
        "id": "fnmqeJpz6baS",
        "outputId": "c47909dd-bec3-4c9e-c3e3-460da184ccca"
      },
      "outputs": [
        {
          "output_type": "stream",
          "name": "stdout",
          "text": [
            "Epoch 1/10\n",
            "625/625 [==============================] - 175s 267ms/step - loss: 0.5287 - accuracy: 0.7543 - val_loss: 0.3555 - val_accuracy: 0.8748\n",
            "Epoch 2/10\n",
            "625/625 [==============================] - 175s 281ms/step - loss: 0.3626 - accuracy: 0.8679 - val_loss: 0.3789 - val_accuracy: 0.8742\n",
            "Epoch 3/10\n",
            "625/625 [==============================] - 177s 283ms/step - loss: 0.2802 - accuracy: 0.9023 - val_loss: 0.4816 - val_accuracy: 0.8510\n",
            "Epoch 4/10\n",
            "625/625 [==============================] - 176s 282ms/step - loss: 0.2319 - accuracy: 0.9230 - val_loss: 0.2803 - val_accuracy: 0.8916\n",
            "Epoch 5/10\n",
            "625/625 [==============================] - 176s 281ms/step - loss: 0.2057 - accuracy: 0.9311 - val_loss: 0.4942 - val_accuracy: 0.8600\n",
            "Epoch 6/10\n",
            "625/625 [==============================] - 176s 281ms/step - loss: 0.1910 - accuracy: 0.9384 - val_loss: 0.4135 - val_accuracy: 0.8644\n",
            "Epoch 7/10\n",
            "625/625 [==============================] - 176s 281ms/step - loss: 0.1589 - accuracy: 0.9481 - val_loss: 0.3070 - val_accuracy: 0.8808\n",
            "Epoch 8/10\n",
            "625/625 [==============================] - 176s 282ms/step - loss: 0.1421 - accuracy: 0.9536 - val_loss: 0.3614 - val_accuracy: 0.8824\n",
            "Epoch 9/10\n",
            "625/625 [==============================] - 177s 283ms/step - loss: 0.1301 - accuracy: 0.9581 - val_loss: 0.3932 - val_accuracy: 0.8380\n",
            "Epoch 10/10\n",
            "625/625 [==============================] - 177s 283ms/step - loss: 0.1066 - accuracy: 0.9657 - val_loss: 0.4043 - val_accuracy: 0.8686\n",
            "782/782 [==============================] - 103s 131ms/step - loss: 0.3008 - accuracy: 0.8794\n",
            "Test acc: 0.879\n"
          ]
        }
      ],
      "source": [
        "callbacks = [\n",
        "    keras.callbacks.ModelCheckpoint(\"one_hot_bidir_lstm.keras\",\n",
        "                                    save_best_only=True)\n",
        "]\n",
        "model.fit(int_train_ds, validation_data=int_val_ds, epochs=10, callbacks=callbacks)\n",
        "model = keras.models.load_model(\"one_hot_bidir_lstm.keras\")\n",
        "print(f\"Test acc: {model.evaluate(int_test_ds)[1]:.3f}\")"
      ]
    },
    {
      "cell_type": "markdown",
      "metadata": {
        "id": "IAd6yW_P6baT"
      },
      "source": [
        "#### Understanding word embeddings"
      ]
    },
    {
      "cell_type": "markdown",
      "metadata": {
        "id": "aL3adeXw6baV"
      },
      "source": [
        "#### Learning word embeddings with the Embedding layer"
      ]
    },
    {
      "cell_type": "markdown",
      "metadata": {
        "id": "A4nn0ozg6baV"
      },
      "source": [
        "**Instantiating an `Embedding` layer**"
      ]
    },
    {
      "cell_type": "code",
      "execution_count": 6,
      "metadata": {
        "id": "5Vabe9gm6baW"
      },
      "outputs": [],
      "source": [
        "embedding_layer = layers.Embedding(input_dim=max_tokens, output_dim=256)"
      ]
    },
    {
      "cell_type": "markdown",
      "metadata": {
        "id": "YT5QF8Gk6baX"
      },
      "source": [
        "**Model that uses an `Embedding` layer trained from scratch**"
      ]
    },
    {
      "cell_type": "code",
      "execution_count": 7,
      "metadata": {
        "colab": {
          "base_uri": "https://localhost:8080/"
        },
        "id": "muS_hhoU6baY",
        "outputId": "1b960887-729c-494a-89c2-a197532d48fa"
      },
      "outputs": [
        {
          "output_type": "stream",
          "name": "stdout",
          "text": [
            "Model: \"model_1\"\n",
            "_________________________________________________________________\n",
            " Layer (type)                Output Shape              Param #   \n",
            "=================================================================\n",
            " input_2 (InputLayer)        [(None, None)]            0         \n",
            "                                                                 \n",
            " embedding_1 (Embedding)     (None, None, 256)         5120000   \n",
            "                                                                 \n",
            " bidirectional_1 (Bidirectio  (None, 64)               73984     \n",
            " nal)                                                            \n",
            "                                                                 \n",
            " dropout_1 (Dropout)         (None, 64)                0         \n",
            "                                                                 \n",
            " dense_1 (Dense)             (None, 1)                 65        \n",
            "                                                                 \n",
            "=================================================================\n",
            "Total params: 5,194,049\n",
            "Trainable params: 5,194,049\n",
            "Non-trainable params: 0\n",
            "_________________________________________________________________\n",
            "Epoch 1/10\n",
            "625/625 [==============================] - 37s 55ms/step - loss: 0.4761 - accuracy: 0.7842 - val_loss: 0.3536 - val_accuracy: 0.8562\n",
            "Epoch 2/10\n",
            "625/625 [==============================] - 34s 53ms/step - loss: 0.2990 - accuracy: 0.8885 - val_loss: 0.4415 - val_accuracy: 0.7838\n",
            "Epoch 3/10\n",
            "625/625 [==============================] - 34s 54ms/step - loss: 0.2371 - accuracy: 0.9166 - val_loss: 0.3138 - val_accuracy: 0.8798\n",
            "Epoch 4/10\n",
            "625/625 [==============================] - 34s 54ms/step - loss: 0.2001 - accuracy: 0.9312 - val_loss: 0.3470 - val_accuracy: 0.8778\n",
            "Epoch 5/10\n",
            "625/625 [==============================] - 36s 57ms/step - loss: 0.1684 - accuracy: 0.9435 - val_loss: 0.6493 - val_accuracy: 0.8014\n",
            "Epoch 6/10\n",
            "625/625 [==============================] - 35s 56ms/step - loss: 0.1398 - accuracy: 0.9548 - val_loss: 0.3441 - val_accuracy: 0.8728\n",
            "Epoch 7/10\n",
            "625/625 [==============================] - 35s 55ms/step - loss: 0.1154 - accuracy: 0.9640 - val_loss: 0.4111 - val_accuracy: 0.8738\n",
            "Epoch 8/10\n",
            "625/625 [==============================] - 35s 56ms/step - loss: 0.0972 - accuracy: 0.9693 - val_loss: 0.4215 - val_accuracy: 0.8812\n",
            "Epoch 9/10\n",
            "625/625 [==============================] - 38s 61ms/step - loss: 0.0805 - accuracy: 0.9740 - val_loss: 0.3963 - val_accuracy: 0.8804\n",
            "Epoch 10/10\n",
            "625/625 [==============================] - 36s 57ms/step - loss: 0.0676 - accuracy: 0.9794 - val_loss: 0.4173 - val_accuracy: 0.8800\n",
            "782/782 [==============================] - 27s 34ms/step - loss: 0.3500 - accuracy: 0.8609\n",
            "Test acc: 0.861\n"
          ]
        }
      ],
      "source": [
        "inputs = keras.Input(shape=(None,), dtype=\"int64\")\n",
        "embedded = layers.Embedding(input_dim=max_tokens, output_dim=256)(inputs)\n",
        "x = layers.Bidirectional(layers.LSTM(32))(embedded)\n",
        "x = layers.Dropout(0.5)(x)\n",
        "outputs = layers.Dense(1, activation=\"sigmoid\")(x)\n",
        "model = keras.Model(inputs, outputs)\n",
        "model.compile(optimizer=\"rmsprop\",\n",
        "              loss=\"binary_crossentropy\",\n",
        "              metrics=[\"accuracy\"])\n",
        "model.summary()\n",
        "\n",
        "callbacks = [\n",
        "    keras.callbacks.ModelCheckpoint(\"embeddings_bidir_gru.keras\",\n",
        "                                    save_best_only=True)\n",
        "]\n",
        "model.fit(int_train_ds, validation_data=int_val_ds, epochs=10, callbacks=callbacks)\n",
        "model = keras.models.load_model(\"embeddings_bidir_gru.keras\")\n",
        "print(f\"Test acc: {model.evaluate(int_test_ds)[1]:.3f}\")"
      ]
    },
    {
      "cell_type": "markdown",
      "metadata": {
        "id": "RClvioH96baZ"
      },
      "source": [
        "#### Understanding padding and masking"
      ]
    },
    {
      "cell_type": "markdown",
      "metadata": {
        "id": "CgqZKuG-6baa"
      },
      "source": [
        "**Using an `Embedding` layer with masking enabled**"
      ]
    },
    {
      "cell_type": "code",
      "execution_count": 8,
      "metadata": {
        "colab": {
          "base_uri": "https://localhost:8080/"
        },
        "id": "m3bwmj0S6baa",
        "outputId": "a61e44d4-d9cb-465e-d47b-788eccdf1efb"
      },
      "outputs": [
        {
          "output_type": "stream",
          "name": "stdout",
          "text": [
            "Model: \"model_2\"\n",
            "_________________________________________________________________\n",
            " Layer (type)                Output Shape              Param #   \n",
            "=================================================================\n",
            " input_3 (InputLayer)        [(None, None)]            0         \n",
            "                                                                 \n",
            " embedding_2 (Embedding)     (None, None, 256)         5120000   \n",
            "                                                                 \n",
            " bidirectional_2 (Bidirectio  (None, 64)               73984     \n",
            " nal)                                                            \n",
            "                                                                 \n",
            " dropout_2 (Dropout)         (None, 64)                0         \n",
            "                                                                 \n",
            " dense_2 (Dense)             (None, 1)                 65        \n",
            "                                                                 \n",
            "=================================================================\n",
            "Total params: 5,194,049\n",
            "Trainable params: 5,194,049\n",
            "Non-trainable params: 0\n",
            "_________________________________________________________________\n",
            "Epoch 1/10\n",
            "625/625 [==============================] - 50s 69ms/step - loss: 0.3891 - accuracy: 0.8257 - val_loss: 0.2992 - val_accuracy: 0.8750\n",
            "Epoch 2/10\n",
            "625/625 [==============================] - 40s 64ms/step - loss: 0.2232 - accuracy: 0.9122 - val_loss: 0.3447 - val_accuracy: 0.8556\n",
            "Epoch 3/10\n",
            "625/625 [==============================] - 38s 60ms/step - loss: 0.1567 - accuracy: 0.9424 - val_loss: 0.3195 - val_accuracy: 0.8854\n",
            "Epoch 4/10\n",
            "625/625 [==============================] - 40s 63ms/step - loss: 0.1195 - accuracy: 0.9575 - val_loss: 0.3562 - val_accuracy: 0.8838\n",
            "Epoch 5/10\n",
            "625/625 [==============================] - 38s 61ms/step - loss: 0.0852 - accuracy: 0.9715 - val_loss: 0.4057 - val_accuracy: 0.8694\n",
            "Epoch 6/10\n",
            "625/625 [==============================] - 40s 63ms/step - loss: 0.0609 - accuracy: 0.9803 - val_loss: 0.5104 - val_accuracy: 0.8570\n",
            "Epoch 7/10\n",
            "625/625 [==============================] - 38s 60ms/step - loss: 0.0464 - accuracy: 0.9859 - val_loss: 0.4825 - val_accuracy: 0.8794\n",
            "Epoch 8/10\n",
            "625/625 [==============================] - 39s 63ms/step - loss: 0.0308 - accuracy: 0.9905 - val_loss: 0.5090 - val_accuracy: 0.8716\n",
            "Epoch 9/10\n",
            "625/625 [==============================] - 39s 62ms/step - loss: 0.0221 - accuracy: 0.9930 - val_loss: 0.5906 - val_accuracy: 0.8648\n",
            "Epoch 10/10\n",
            "625/625 [==============================] - 36s 58ms/step - loss: 0.0158 - accuracy: 0.9952 - val_loss: 0.6391 - val_accuracy: 0.8638\n",
            "782/782 [==============================] - 27s 32ms/step - loss: 0.3087 - accuracy: 0.8717\n",
            "Test acc: 0.872\n"
          ]
        }
      ],
      "source": [
        "inputs = keras.Input(shape=(None,), dtype=\"int64\")\n",
        "embedded = layers.Embedding(\n",
        "    input_dim=max_tokens, output_dim=256, mask_zero=True)(inputs)\n",
        "x = layers.Bidirectional(layers.LSTM(32))(embedded)\n",
        "x = layers.Dropout(0.5)(x)\n",
        "outputs = layers.Dense(1, activation=\"sigmoid\")(x)\n",
        "model = keras.Model(inputs, outputs)\n",
        "model.compile(optimizer=\"rmsprop\",\n",
        "              loss=\"binary_crossentropy\",\n",
        "              metrics=[\"accuracy\"])\n",
        "model.summary()\n",
        "\n",
        "callbacks = [\n",
        "    keras.callbacks.ModelCheckpoint(\"embeddings_bidir_gru_with_masking.keras\",\n",
        "                                    save_best_only=True)\n",
        "]\n",
        "model.fit(int_train_ds, validation_data=int_val_ds, epochs=10, callbacks=callbacks)\n",
        "model = keras.models.load_model(\"embeddings_bidir_gru_with_masking.keras\")\n",
        "print(f\"Test acc: {model.evaluate(int_test_ds)[1]:.3f}\")"
      ]
    },
    {
      "cell_type": "markdown",
      "metadata": {
        "id": "llFiqwsA6bab"
      },
      "source": [
        "#### Using pretrained word embeddings"
      ]
    },
    {
      "cell_type": "code",
      "execution_count": 9,
      "metadata": {
        "colab": {
          "base_uri": "https://localhost:8080/"
        },
        "id": "ItP20qKw6bac",
        "outputId": "8be5c265-7f5f-4b00-a085-6da82d4a3d19"
      },
      "outputs": [
        {
          "output_type": "stream",
          "name": "stdout",
          "text": [
            "--2022-12-20 15:11:43--  http://nlp.stanford.edu/data/glove.6B.zip\n",
            "Resolving nlp.stanford.edu (nlp.stanford.edu)... 171.64.67.140\n",
            "Connecting to nlp.stanford.edu (nlp.stanford.edu)|171.64.67.140|:80... connected.\n",
            "HTTP request sent, awaiting response... 302 Found\n",
            "Location: https://nlp.stanford.edu/data/glove.6B.zip [following]\n",
            "--2022-12-20 15:11:44--  https://nlp.stanford.edu/data/glove.6B.zip\n",
            "Connecting to nlp.stanford.edu (nlp.stanford.edu)|171.64.67.140|:443... connected.\n",
            "HTTP request sent, awaiting response... 301 Moved Permanently\n",
            "Location: https://downloads.cs.stanford.edu/nlp/data/glove.6B.zip [following]\n",
            "--2022-12-20 15:11:44--  https://downloads.cs.stanford.edu/nlp/data/glove.6B.zip\n",
            "Resolving downloads.cs.stanford.edu (downloads.cs.stanford.edu)... 171.64.64.22\n",
            "Connecting to downloads.cs.stanford.edu (downloads.cs.stanford.edu)|171.64.64.22|:443... connected.\n",
            "HTTP request sent, awaiting response... 200 OK\n",
            "Length: 862182613 (822M) [application/zip]\n",
            "Saving to: ‘glove.6B.zip’\n",
            "\n",
            "glove.6B.zip        100%[===================>] 822.24M  5.06MB/s    in 2m 39s  \n",
            "\n",
            "2022-12-20 15:14:24 (5.18 MB/s) - ‘glove.6B.zip’ saved [862182613/862182613]\n",
            "\n"
          ]
        }
      ],
      "source": [
        "!wget http://nlp.stanford.edu/data/glove.6B.zip\n",
        "!unzip -q glove.6B.zip"
      ]
    },
    {
      "cell_type": "markdown",
      "metadata": {
        "id": "_8pkeva26bad"
      },
      "source": [
        "**Parsing the GloVe word-embeddings file**"
      ]
    },
    {
      "cell_type": "code",
      "execution_count": 10,
      "metadata": {
        "colab": {
          "base_uri": "https://localhost:8080/"
        },
        "id": "Aesww7vN6bae",
        "outputId": "137ac827-ac7c-4112-88e4-eb12dc2cfe77"
      },
      "outputs": [
        {
          "output_type": "stream",
          "name": "stdout",
          "text": [
            "Found 400000 word vectors.\n"
          ]
        }
      ],
      "source": [
        "import numpy as np\n",
        "path_to_glove_file = \"glove.6B.100d.txt\"\n",
        "\n",
        "embeddings_index = {}\n",
        "with open(path_to_glove_file) as f:\n",
        "    for line in f:\n",
        "        word, coefs = line.split(maxsplit=1)\n",
        "        coefs = np.fromstring(coefs, \"f\", sep=\" \")\n",
        "        embeddings_index[word] = coefs\n",
        "\n",
        "print(f\"Found {len(embeddings_index)} word vectors.\")"
      ]
    },
    {
      "cell_type": "markdown",
      "metadata": {
        "id": "VGgnKPau6baf"
      },
      "source": [
        "**Preparing the GloVe word-embeddings matrix**"
      ]
    },
    {
      "cell_type": "code",
      "execution_count": 11,
      "metadata": {
        "id": "KD6CVWla6bag"
      },
      "outputs": [],
      "source": [
        "embedding_dim = 100\n",
        "\n",
        "vocabulary = text_vectorization.get_vocabulary()\n",
        "word_index = dict(zip(vocabulary, range(len(vocabulary))))\n",
        "\n",
        "embedding_matrix = np.zeros((max_tokens, embedding_dim))\n",
        "for word, i in word_index.items():\n",
        "    if i < max_tokens:\n",
        "        embedding_vector = embeddings_index.get(word)\n",
        "    if embedding_vector is not None:\n",
        "        embedding_matrix[i] = embedding_vector"
      ]
    },
    {
      "cell_type": "code",
      "execution_count": 12,
      "metadata": {
        "id": "Vn6bGDFm6bah"
      },
      "outputs": [],
      "source": [
        "embedding_layer = layers.Embedding(\n",
        "    max_tokens,\n",
        "    embedding_dim,\n",
        "    embeddings_initializer=keras.initializers.Constant(embedding_matrix),\n",
        "    trainable=False,\n",
        "    mask_zero=True,\n",
        ")"
      ]
    },
    {
      "cell_type": "markdown",
      "metadata": {
        "id": "cyqfxMnY6bah"
      },
      "source": [
        "**Model that uses a pretrained Embedding layer**"
      ]
    },
    {
      "cell_type": "code",
      "execution_count": 13,
      "metadata": {
        "colab": {
          "base_uri": "https://localhost:8080/"
        },
        "id": "pVOaT9ic6bai",
        "outputId": "e68dfc70-3ae7-4c1a-f30d-097bbf3e98cf"
      },
      "outputs": [
        {
          "output_type": "stream",
          "name": "stdout",
          "text": [
            "Model: \"model_3\"\n",
            "_________________________________________________________________\n",
            " Layer (type)                Output Shape              Param #   \n",
            "=================================================================\n",
            " input_4 (InputLayer)        [(None, None)]            0         \n",
            "                                                                 \n",
            " embedding_3 (Embedding)     (None, None, 100)         2000000   \n",
            "                                                                 \n",
            " bidirectional_3 (Bidirectio  (None, 64)               34048     \n",
            " nal)                                                            \n",
            "                                                                 \n",
            " dropout_3 (Dropout)         (None, 64)                0         \n",
            "                                                                 \n",
            " dense_3 (Dense)             (None, 1)                 65        \n",
            "                                                                 \n",
            "=================================================================\n",
            "Total params: 2,034,113\n",
            "Trainable params: 34,113\n",
            "Non-trainable params: 2,000,000\n",
            "_________________________________________________________________\n",
            "Epoch 1/10\n",
            "625/625 [==============================] - 43s 58ms/step - loss: 0.5702 - accuracy: 0.7003 - val_loss: 0.4556 - val_accuracy: 0.7928\n",
            "Epoch 2/10\n",
            "625/625 [==============================] - 33s 52ms/step - loss: 0.4542 - accuracy: 0.7928 - val_loss: 0.3940 - val_accuracy: 0.8310\n",
            "Epoch 3/10\n",
            "625/625 [==============================] - 32s 52ms/step - loss: 0.3993 - accuracy: 0.8255 - val_loss: 0.4379 - val_accuracy: 0.7840\n",
            "Epoch 4/10\n",
            "625/625 [==============================] - 33s 52ms/step - loss: 0.3700 - accuracy: 0.8410 - val_loss: 0.3779 - val_accuracy: 0.8364\n",
            "Epoch 5/10\n",
            "625/625 [==============================] - 33s 53ms/step - loss: 0.3445 - accuracy: 0.8533 - val_loss: 0.3740 - val_accuracy: 0.8262\n",
            "Epoch 6/10\n",
            "625/625 [==============================] - 33s 53ms/step - loss: 0.3207 - accuracy: 0.8644 - val_loss: 0.3253 - val_accuracy: 0.8698\n",
            "Epoch 7/10\n",
            "625/625 [==============================] - 33s 52ms/step - loss: 0.3045 - accuracy: 0.8720 - val_loss: 0.3180 - val_accuracy: 0.8724\n",
            "Epoch 8/10\n",
            "625/625 [==============================] - 33s 52ms/step - loss: 0.2859 - accuracy: 0.8824 - val_loss: 0.3045 - val_accuracy: 0.8748\n",
            "Epoch 9/10\n",
            "625/625 [==============================] - 31s 50ms/step - loss: 0.2711 - accuracy: 0.8906 - val_loss: 0.3110 - val_accuracy: 0.8698\n",
            "Epoch 10/10\n",
            "625/625 [==============================] - 31s 50ms/step - loss: 0.2553 - accuracy: 0.8975 - val_loss: 0.3546 - val_accuracy: 0.8540\n",
            "782/782 [==============================] - 19s 22ms/step - loss: 0.2969 - accuracy: 0.8721\n",
            "Test acc: 0.872\n"
          ]
        }
      ],
      "source": [
        "inputs = keras.Input(shape=(None,), dtype=\"int64\")\n",
        "embedded = embedding_layer(inputs)\n",
        "x = layers.Bidirectional(layers.LSTM(32))(embedded)\n",
        "x = layers.Dropout(0.5)(x)\n",
        "outputs = layers.Dense(1, activation=\"sigmoid\")(x)\n",
        "model = keras.Model(inputs, outputs)\n",
        "model.compile(optimizer=\"rmsprop\",\n",
        "              loss=\"binary_crossentropy\",\n",
        "              metrics=[\"accuracy\"])\n",
        "model.summary()\n",
        "\n",
        "callbacks = [\n",
        "    keras.callbacks.ModelCheckpoint(\"glove_embeddings_sequence_model.keras\",\n",
        "                                    save_best_only=True)\n",
        "]\n",
        "model.fit(int_train_ds, validation_data=int_val_ds, epochs=10, callbacks=callbacks)\n",
        "model = keras.models.load_model(\"glove_embeddings_sequence_model.keras\")\n",
        "print(f\"Test acc: {model.evaluate(int_test_ds)[1]:.3f}\")"
      ]
    }
  ],
  "metadata": {
    "colab": {
      "provenance": [],
      "toc_visible": true
    },
    "kernelspec": {
      "display_name": "Python 3",
      "language": "python",
      "name": "python3"
    },
    "language_info": {
      "codemirror_mode": {
        "name": "ipython",
        "version": 3
      },
      "file_extension": ".py",
      "mimetype": "text/x-python",
      "name": "python",
      "nbconvert_exporter": "python",
      "pygments_lexer": "ipython3",
      "version": "3.7.0"
    },
    "accelerator": "GPU",
    "gpuClass": "standard"
  },
  "nbformat": 4,
  "nbformat_minor": 0
}