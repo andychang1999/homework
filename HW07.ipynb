{
 "cells": [
  {
   "cell_type": "markdown",
   "metadata": {
    "colab_type": "text"
   },
   "source": [
    "# Working with Keras: A deep dive"
   ]
  },
  {
   "cell_type": "markdown",
   "metadata": {
    "colab_type": "text"
   },
   "source": [
    "## A spectrum of workflows"
   ]
  },
  {
   "cell_type": "markdown",
   "metadata": {
    "colab_type": "text"
   },
   "source": [
    "## Different ways to build Keras models"
   ]
  },
  {
   "cell_type": "markdown",
   "metadata": {
    "colab_type": "text"
   },
   "source": [
    "### The Sequential model"
   ]
  },
  {
   "cell_type": "markdown",
   "metadata": {
    "colab_type": "text"
   },
   "source": [
    "**The `Sequential` class**"
   ]
  },
  {
   "cell_type": "code",
   "execution_count": 1,
   "metadata": {
    "colab_type": "code"
   },
   "outputs": [],
   "source": [
    "from tensorflow import keras\n",
    "from tensorflow.keras import layers\n",
    "\n",
    "model = keras.Sequential([\n",
    "    layers.Dense(64, activation=\"relu\"),\n",
    "    layers.Dense(10, activation=\"softmax\")\n",
    "])"
   ]
  },
  {
   "cell_type": "markdown",
   "metadata": {
    "colab_type": "text"
   },
   "source": [
    "**Incrementally building a Sequential model**"
   ]
  },
  {
   "cell_type": "code",
   "execution_count": 2,
   "metadata": {
    "colab_type": "code"
   },
   "outputs": [],
   "source": [
    "model = keras.Sequential()\n",
    "model.add(layers.Dense(64, activation=\"relu\"))\n",
    "model.add(layers.Dense(10, activation=\"softmax\"))"
   ]
  },
  {
   "cell_type": "markdown",
   "metadata": {
    "colab_type": "text"
   },
   "source": [
    "**Calling a model for the first time to build it**"
   ]
  },
  {
   "cell_type": "code",
   "execution_count": 3,
   "metadata": {
    "colab_type": "code"
   },
   "outputs": [
    {
     "data": {
      "text/plain": [
       "[<tf.Variable 'dense_2/kernel:0' shape=(3, 64) dtype=float32, numpy=\n",
       " array([[-0.03895727,  0.18817306, -0.25198942,  0.14138648,  0.16928005,\n",
       "          0.01693133,  0.17866623, -0.04920617, -0.02918109,  0.10102469,\n",
       "          0.05259612, -0.10609391,  0.05133298, -0.12643884, -0.06601749,\n",
       "         -0.2950767 , -0.1264111 ,  0.14428613, -0.01032299,  0.26225144,\n",
       "          0.05200171, -0.11939336, -0.24950275,  0.13931543,  0.2224434 ,\n",
       "         -0.11184138,  0.12075511,  0.15555474, -0.22209342, -0.16023876,\n",
       "         -0.2857763 , -0.00475568, -0.14610362, -0.29388207,  0.02091807,\n",
       "         -0.03942758, -0.219684  , -0.19092771, -0.09135175,  0.10967213,\n",
       "          0.27934283,  0.12263039, -0.16063046,  0.13682711,  0.01857686,\n",
       "         -0.158958  ,  0.16312647,  0.03939706, -0.2858604 , -0.04997687,\n",
       "         -0.2244344 ,  0.1405378 ,  0.22913504,  0.1570845 ,  0.09033027,\n",
       "         -0.13279241,  0.06535017, -0.23235089,  0.21899265,  0.00812975,\n",
       "          0.0105744 , -0.19420806, -0.11846456, -0.12176394],\n",
       "        [-0.18269059, -0.08661   ,  0.00527957, -0.15259288, -0.22564289,\n",
       "         -0.15623282,  0.25254196,  0.24337262, -0.20020646,  0.0664326 ,\n",
       "         -0.10986961, -0.2845626 , -0.1835651 ,  0.23921329, -0.10028751,\n",
       "          0.00365928, -0.01551157,  0.15850472, -0.26885632, -0.23197468,\n",
       "         -0.09446736, -0.10659321,  0.22220773, -0.12905537,  0.02510095,\n",
       "         -0.12506877,  0.08868   ,  0.07342064, -0.23786712, -0.2528296 ,\n",
       "          0.17534757, -0.06987125,  0.1326268 , -0.07957608,  0.13641009,\n",
       "          0.14909771, -0.0286375 ,  0.10877335, -0.22616535,  0.19122916,\n",
       "         -0.28847492, -0.12120402, -0.03909767,  0.2293874 ,  0.03567949,\n",
       "          0.21359295, -0.16585852, -0.15677677, -0.16859154, -0.13065748,\n",
       "         -0.09798649,  0.15744835, -0.28577885, -0.102428  ,  0.23914468,\n",
       "          0.19639614, -0.07535081, -0.17356367, -0.21044923,  0.16760838,\n",
       "          0.12013358, -0.22958012,  0.04279476, -0.13335119],\n",
       "        [-0.17593327,  0.13810208, -0.05495685,  0.16755474,  0.14420685,\n",
       "         -0.2114872 , -0.10106549,  0.25337315, -0.07209587,  0.00950184,\n",
       "          0.02856201,  0.23810363, -0.18771923, -0.15312664, -0.15211892,\n",
       "         -0.18872544,  0.23010254,  0.24687952,  0.12015772,  0.27545172,\n",
       "         -0.06552655, -0.19520679, -0.13949129, -0.25492686, -0.07714348,\n",
       "         -0.21218483, -0.0714872 ,  0.08776397,  0.22589093, -0.10901102,\n",
       "          0.255615  , -0.10004686, -0.16214488, -0.13920583, -0.2509623 ,\n",
       "         -0.07032552,  0.16128713, -0.14007348,  0.24136597,  0.24014044,\n",
       "         -0.15286465, -0.17703873,  0.02999768, -0.2071181 ,  0.14504668,\n",
       "          0.04040149, -0.09779321, -0.02715749, -0.2914108 ,  0.22291714,\n",
       "         -0.11307241,  0.28620142,  0.25144684,  0.08180925,  0.22993326,\n",
       "          0.25218415,  0.01578447,  0.22169322, -0.2752267 ,  0.20731682,\n",
       "         -0.03273186,  0.10403061,  0.19559541,  0.04212087]],\n",
       "       dtype=float32)>,\n",
       " <tf.Variable 'dense_2/bias:0' shape=(64,) dtype=float32, numpy=\n",
       " array([0., 0., 0., 0., 0., 0., 0., 0., 0., 0., 0., 0., 0., 0., 0., 0., 0.,\n",
       "        0., 0., 0., 0., 0., 0., 0., 0., 0., 0., 0., 0., 0., 0., 0., 0., 0.,\n",
       "        0., 0., 0., 0., 0., 0., 0., 0., 0., 0., 0., 0., 0., 0., 0., 0., 0.,\n",
       "        0., 0., 0., 0., 0., 0., 0., 0., 0., 0., 0., 0., 0.], dtype=float32)>,\n",
       " <tf.Variable 'dense_3/kernel:0' shape=(64, 10) dtype=float32, numpy=\n",
       " array([[-2.14999855e-01,  2.28161603e-01, -6.37492537e-02,\n",
       "         -8.65593702e-02, -1.72363013e-01, -2.75091320e-01,\n",
       "          1.51725411e-02,  2.32801110e-01,  7.59665072e-02,\n",
       "          1.88854486e-01],\n",
       "        [-1.34208813e-01, -8.39967728e-02, -2.05293894e-01,\n",
       "          8.60578120e-02,  1.41732961e-01, -1.82709038e-01,\n",
       "          1.84370279e-01,  2.23933309e-01, -2.24667877e-01,\n",
       "          2.73262262e-02],\n",
       "        [ 1.30987763e-01, -1.43873304e-01,  2.24951714e-01,\n",
       "          1.27077103e-04, -2.70488918e-01, -1.78248048e-01,\n",
       "         -6.93543851e-02,  1.99303776e-01, -1.67589188e-01,\n",
       "         -1.53631270e-01],\n",
       "        [-2.13697270e-01, -2.29245424e-01, -2.08113328e-01,\n",
       "         -1.42485842e-01, -6.54426813e-02,  1.33689046e-01,\n",
       "         -2.61710793e-01, -9.37804580e-03, -2.49295041e-01,\n",
       "          1.82893157e-01],\n",
       "        [-8.15140605e-02,  1.15824848e-01,  8.43128562e-03,\n",
       "          1.59774750e-01,  4.65225577e-02,  2.04185009e-01,\n",
       "          5.89522123e-02,  3.85172069e-02,  1.31689668e-01,\n",
       "         -1.17816731e-01],\n",
       "        [ 9.33687091e-02, -8.62842947e-02,  3.39851379e-02,\n",
       "         -8.37436169e-02, -2.43190929e-01,  7.56893158e-02,\n",
       "         -1.02280378e-01,  3.91899943e-02, -1.20737851e-01,\n",
       "         -1.05034173e-01],\n",
       "        [ 1.56838149e-01, -2.67172605e-01, -1.90082461e-01,\n",
       "          2.69905001e-01,  1.14671767e-01,  1.36804819e-01,\n",
       "         -2.46768206e-01,  1.21864676e-01,  2.25107104e-01,\n",
       "          1.55408382e-02],\n",
       "        [ 7.69953728e-02,  2.01526195e-01, -1.91358447e-01,\n",
       "         -7.18844086e-02, -1.86295062e-01, -1.17195338e-01,\n",
       "         -2.66277015e-01,  1.13753557e-01, -1.96030498e-01,\n",
       "         -2.18938515e-01],\n",
       "        [ 3.10828686e-02, -2.10522711e-02, -4.81985211e-02,\n",
       "          2.24624842e-01,  3.98328900e-02, -2.60072500e-01,\n",
       "          2.66371399e-01,  1.93362474e-01,  5.40896058e-02,\n",
       "         -4.91378307e-02],\n",
       "        [-1.49954528e-01, -1.16454661e-01,  2.43297726e-01,\n",
       "         -7.53789991e-02, -7.19983876e-02, -2.05443203e-02,\n",
       "          1.74110532e-01,  2.02344328e-01,  2.06020236e-01,\n",
       "          2.24769086e-01],\n",
       "        [-1.73228472e-01,  2.66924798e-02, -1.76467314e-01,\n",
       "         -1.83697045e-02, -9.07970816e-02,  6.09559715e-02,\n",
       "         -1.89796984e-01, -2.23038137e-01,  8.51117074e-02,\n",
       "         -5.74725717e-02],\n",
       "        [ 1.27964914e-02,  2.00771064e-01, -2.81624287e-01,\n",
       "          2.00714648e-01, -5.26279509e-02, -6.00077659e-02,\n",
       "          1.02693737e-02,  2.74990112e-01, -1.20618507e-01,\n",
       "         -4.34886515e-02],\n",
       "        [ 1.80715322e-02,  2.71801949e-02,  2.18611091e-01,\n",
       "          2.37919062e-01, -2.15196908e-02, -1.84363082e-01,\n",
       "          2.29773253e-01,  1.82089001e-01, -9.53519642e-02,\n",
       "          7.67562091e-02],\n",
       "        [-2.81771213e-01,  2.49038935e-02,  9.24995542e-03,\n",
       "         -6.82320446e-02,  4.44154739e-02, -4.51442003e-02,\n",
       "          4.11906838e-02, -9.02649611e-02, -2.61963695e-01,\n",
       "         -5.77684343e-02],\n",
       "        [-1.16844893e-01,  1.32067859e-01,  1.64575398e-01,\n",
       "         -5.20183742e-02,  2.01768011e-01,  2.19980687e-01,\n",
       "         -1.05740011e-01,  1.78107589e-01,  1.80128783e-01,\n",
       "          1.45848811e-01],\n",
       "        [ 8.39218795e-02,  3.67110074e-02,  7.38129914e-02,\n",
       "          1.61869615e-01, -1.66511863e-01,  2.94511020e-02,\n",
       "          2.57854491e-01, -2.64183044e-01,  2.77987421e-02,\n",
       "          4.86547351e-02],\n",
       "        [ 2.28146762e-01,  2.14123607e-01, -2.11042345e-01,\n",
       "          2.81765431e-01, -8.95132273e-02,  2.11983740e-01,\n",
       "         -1.32043287e-01, -7.46420622e-02,  1.74847335e-01,\n",
       "         -1.81757569e-01],\n",
       "        [ 2.46131152e-01, -8.09362680e-02,  1.98522508e-01,\n",
       "          2.53901511e-01,  2.83279985e-01, -2.62058854e-01,\n",
       "         -2.52854824e-02, -2.18931451e-01, -8.76078606e-02,\n",
       "         -2.75524259e-01],\n",
       "        [-8.39281976e-02, -1.60040051e-01,  5.00057340e-02,\n",
       "          2.35514045e-02,  4.84070182e-02,  1.26437336e-01,\n",
       "          2.03158319e-01,  2.67776847e-02, -1.20904192e-01,\n",
       "          1.37655616e-01],\n",
       "        [-1.42797261e-01, -2.15464354e-01,  1.43608451e-01,\n",
       "          2.06194788e-01, -1.76616803e-01, -8.06802511e-02,\n",
       "          2.32812792e-01, -2.29752362e-02, -8.50508809e-02,\n",
       "          2.33927518e-01],\n",
       "        [ 1.62598997e-01, -1.99244708e-01,  7.11598992e-03,\n",
       "         -4.88045663e-02,  2.32032865e-01,  2.59076953e-02,\n",
       "         -1.36963949e-01, -2.49003261e-01, -2.05138564e-01,\n",
       "         -9.18172449e-02],\n",
       "        [-2.65528470e-01, -2.12733045e-01, -8.74391496e-02,\n",
       "         -2.32710287e-01, -1.81034207e-01, -3.40789557e-04,\n",
       "          1.38044327e-01,  2.07391322e-01,  7.25605786e-02,\n",
       "          1.06256425e-01],\n",
       "        [-1.46076024e-01,  1.47970319e-02,  6.25377893e-02,\n",
       "         -1.81491852e-01, -1.66445464e-01, -7.35119879e-02,\n",
       "         -2.61620164e-01, -1.43884018e-01,  2.74114937e-01,\n",
       "          1.07235134e-01],\n",
       "        [-1.48740113e-02,  1.72059357e-01, -5.13041019e-02,\n",
       "         -1.29717946e-01, -1.65685415e-02, -2.31560037e-01,\n",
       "          2.83008605e-01, -1.82877198e-01, -2.54853874e-01,\n",
       "          1.69749409e-01],\n",
       "        [-9.69830155e-03, -2.06369877e-01, -2.68546611e-01,\n",
       "         -2.09608972e-02,  1.52716190e-01, -2.22367734e-01,\n",
       "          1.20117277e-01,  2.74525613e-01, -1.64494738e-01,\n",
       "          1.76732153e-01],\n",
       "        [ 1.58061832e-01, -1.09208941e-01, -1.60964504e-01,\n",
       "         -3.63928825e-02, -8.14476013e-02, -1.37650385e-01,\n",
       "          1.49535835e-02, -2.65053332e-01, -3.38327289e-02,\n",
       "         -1.97724402e-01],\n",
       "        [ 2.82098264e-01,  2.13550836e-01,  1.10629052e-01,\n",
       "          2.54055649e-01,  1.68086618e-01, -1.99739933e-02,\n",
       "         -2.59452879e-01, -2.70235211e-01,  1.02397203e-01,\n",
       "          3.07470858e-02],\n",
       "        [ 5.81477284e-02, -2.20825016e-01, -1.52793914e-01,\n",
       "          6.02478087e-02, -2.81658858e-01, -2.61568904e-01,\n",
       "         -2.42482305e-01, -2.53261626e-02, -1.22701555e-01,\n",
       "         -1.58306360e-02],\n",
       "        [-2.11092919e-01,  2.13695228e-01,  1.44627541e-01,\n",
       "          4.72661257e-02,  1.33392394e-01, -6.40967190e-02,\n",
       "          2.43319780e-01,  2.36916274e-01,  2.46897668e-01,\n",
       "          1.46377683e-02],\n",
       "        [-6.69099092e-02, -5.77356517e-02,  2.06706792e-01,\n",
       "          1.76481426e-01,  1.49477601e-01,  2.56712943e-01,\n",
       "          1.17080957e-01,  2.02420831e-01, -7.96725750e-02,\n",
       "          1.36767566e-01],\n",
       "        [-9.80541110e-03, -2.37791643e-01,  2.04974115e-02,\n",
       "         -2.00111449e-01, -1.43554688e-01, -1.83982491e-01,\n",
       "         -2.55580157e-01, -2.21829712e-02, -3.59390527e-02,\n",
       "         -2.61856288e-01],\n",
       "        [ 1.72307402e-01, -1.96630359e-02,  2.75789469e-01,\n",
       "         -1.83330566e-01,  2.37550586e-01, -2.00583011e-01,\n",
       "          3.43866348e-02, -1.68306574e-01,  2.60096639e-01,\n",
       "         -1.64152771e-01],\n",
       "        [-1.69326678e-01, -1.75482377e-01,  1.11780435e-01,\n",
       "          2.15928555e-02, -2.42567718e-01,  2.23826855e-01,\n",
       "         -4.15679961e-02, -2.32627332e-01, -2.23762646e-01,\n",
       "          1.00318730e-01],\n",
       "        [ 4.98845577e-02, -1.45867467e-01,  2.80617923e-01,\n",
       "          7.12719560e-03,  2.37741619e-01, -2.39201158e-01,\n",
       "          2.17845410e-01,  2.82051593e-01, -2.30704233e-01,\n",
       "          1.30604386e-01],\n",
       "        [-8.17787647e-02,  1.53188765e-01,  4.91321087e-04,\n",
       "          4.81755733e-02, -9.62112397e-02,  2.43169069e-02,\n",
       "         -1.32902756e-01,  2.77611822e-01,  1.95795953e-01,\n",
       "          2.81756967e-01],\n",
       "        [-1.15674287e-01,  1.25278890e-01, -9.04331207e-02,\n",
       "         -2.65661538e-01,  1.67086422e-02,  2.21868187e-01,\n",
       "         -9.12537724e-02,  2.20965445e-02, -2.08736628e-01,\n",
       "         -1.97005451e-01],\n",
       "        [-2.64350325e-01,  2.49370009e-01,  1.78343564e-01,\n",
       "         -1.60777003e-01,  5.85296750e-02, -2.91447043e-02,\n",
       "         -4.04891372e-03,  4.15179133e-02,  2.77281553e-01,\n",
       "         -4.70888019e-02],\n",
       "        [ 1.32425696e-01,  2.83623010e-01,  2.81295776e-02,\n",
       "          1.41994476e-01,  2.82937884e-02,  5.54628670e-02,\n",
       "          5.79920113e-02, -2.04483032e-01, -8.74229223e-02,\n",
       "          2.28599399e-01],\n",
       "        [ 2.35319287e-01, -2.78527409e-01,  1.45123214e-01,\n",
       "          1.08911693e-02,  5.11841476e-02, -8.48076344e-02,\n",
       "          1.57504618e-01, -3.52617800e-02,  1.29770488e-01,\n",
       "         -5.79887629e-03],\n",
       "        [-3.06331217e-02, -2.79531270e-01,  2.14031368e-01,\n",
       "          4.26749885e-02, -1.87302619e-01, -2.52448976e-01,\n",
       "         -2.03795925e-01, -2.08917856e-02, -2.21963316e-01,\n",
       "         -1.58049628e-01],\n",
       "        [ 1.82482690e-01, -1.73062742e-01,  2.43370444e-01,\n",
       "         -5.67302853e-02,  1.26687586e-01,  4.52152789e-02,\n",
       "         -9.94353592e-02,  1.72704577e-01,  6.50958419e-02,\n",
       "         -1.82593420e-01],\n",
       "        [-1.92674473e-01, -7.59447217e-02,  7.65854418e-02,\n",
       "         -2.03720227e-01,  2.37166315e-01, -2.04596400e-01,\n",
       "         -1.68505892e-01,  1.20398551e-01, -6.45116568e-02,\n",
       "         -2.09476203e-01],\n",
       "        [-1.83093756e-01,  9.44739580e-02, -3.96231115e-02,\n",
       "          1.36865079e-02, -2.69731015e-01, -1.67813897e-03,\n",
       "         -3.24656367e-02,  4.56437469e-03,  1.09000981e-01,\n",
       "         -1.02750987e-01],\n",
       "        [-2.20452309e-01,  2.74271816e-01,  1.91415727e-01,\n",
       "         -1.78423405e-01,  1.60046369e-01,  1.31324261e-01,\n",
       "          2.18297273e-01, -8.57894421e-02,  1.88371241e-02,\n",
       "          2.72548050e-01],\n",
       "        [-2.16145352e-01, -2.44013816e-01, -8.13429207e-02,\n",
       "          2.29853362e-01, -9.74923670e-02,  1.00597560e-01,\n",
       "          6.07350469e-02, -6.10810816e-02,  2.45948434e-02,\n",
       "         -1.94457442e-01],\n",
       "        [ 1.65002346e-01,  2.87947357e-02,  1.60982639e-01,\n",
       "         -2.79292971e-01,  2.37893671e-01,  3.94699574e-02,\n",
       "          1.42196923e-01, -1.66641533e-01, -1.09233722e-01,\n",
       "          1.86093986e-01],\n",
       "        [ 1.02785259e-01,  2.53350884e-01, -1.70743927e-01,\n",
       "          1.23932034e-01, -1.81972980e-01,  1.07272744e-01,\n",
       "         -1.01394907e-01,  3.81214917e-02,  2.80916095e-02,\n",
       "          8.56465995e-02],\n",
       "        [ 1.43314242e-01, -1.72186911e-01,  2.19422877e-02,\n",
       "          1.79544330e-01, -1.33523002e-01, -6.29388690e-02,\n",
       "         -2.03562379e-01, -3.69051099e-03,  1.26989841e-01,\n",
       "         -2.33688951e-03],\n",
       "        [ 9.73210931e-02, -2.48515546e-01, -2.49454036e-01,\n",
       "          3.73003483e-02, -5.51968068e-02, -1.46939442e-01,\n",
       "         -6.94385022e-02, -1.46910176e-01,  2.48527557e-01,\n",
       "         -3.85207981e-02],\n",
       "        [-2.24990413e-01, -1.27779588e-01, -1.94305301e-01,\n",
       "         -1.45712197e-02, -8.99669379e-02, -1.96066201e-01,\n",
       "          6.46524429e-02,  1.35564566e-01, -2.65546322e-01,\n",
       "          1.58061355e-01],\n",
       "        [ 1.17583334e-01, -1.77632689e-01,  1.84502870e-01,\n",
       "          2.32601464e-02, -5.53442538e-02,  1.17332876e-01,\n",
       "          1.37382835e-01, -2.22600177e-01, -8.07085633e-03,\n",
       "         -1.92010105e-02],\n",
       "        [ 9.84370708e-05, -8.21725279e-02, -1.34774148e-02,\n",
       "         -1.38678625e-01, -2.55981088e-03, -1.77437857e-01,\n",
       "         -2.63271421e-01,  8.64901841e-02, -6.33594394e-03,\n",
       "         -8.99523497e-03],\n",
       "        [ 4.84488308e-02, -2.53168941e-01,  2.56151766e-01,\n",
       "          1.80189133e-01,  8.37788582e-02, -1.40368938e-01,\n",
       "         -1.72817796e-01, -2.66797841e-02,  4.97341156e-02,\n",
       "          1.20802134e-01],\n",
       "        [-1.94661528e-01, -7.80384094e-02,  5.88557422e-02,\n",
       "         -1.54879391e-02,  3.41874361e-03, -1.29506886e-01,\n",
       "         -2.13894218e-01, -4.82386500e-02, -9.76036340e-02,\n",
       "         -4.87771481e-02],\n",
       "        [ 3.65690589e-02,  2.13272274e-01,  2.38845438e-01,\n",
       "         -1.89004719e-01,  2.04022884e-01, -1.38906673e-01,\n",
       "          6.21354580e-02,  2.23518938e-01,  2.76728868e-02,\n",
       "         -1.50047943e-01],\n",
       "        [-1.42029017e-01,  1.54037774e-01, -3.83844078e-02,\n",
       "          2.02761501e-01, -4.41509485e-03,  1.73946053e-01,\n",
       "         -2.67781854e-01,  1.97649449e-01,  1.59902871e-01,\n",
       "         -1.29898056e-01],\n",
       "        [-1.08349025e-02,  1.13638371e-01,  9.61846113e-02,\n",
       "         -1.84335649e-01, -1.57098085e-01,  2.56624430e-01,\n",
       "         -2.28510499e-02, -2.84593880e-01, -1.79817379e-01,\n",
       "         -1.25600994e-02],\n",
       "        [ 1.80231899e-01, -1.76861271e-01,  2.09320128e-01,\n",
       "         -1.66812599e-01,  5.81814647e-02, -9.48364139e-02,\n",
       "         -1.14511684e-01, -4.81122434e-02, -2.74297297e-01,\n",
       "         -9.02903080e-03],\n",
       "        [ 3.14493477e-02, -7.91075379e-02,  2.08924890e-01,\n",
       "          4.41699326e-02, -2.17768043e-01, -1.09148711e-01,\n",
       "         -1.71637416e-01,  4.16868031e-02,  1.42033905e-01,\n",
       "          1.66408747e-01],\n",
       "        [ 7.41401613e-02,  4.88335490e-02, -1.90490693e-01,\n",
       "          1.08107775e-01, -1.05823785e-01, -2.22279400e-01,\n",
       "         -9.58482325e-02, -1.27782166e-01,  6.47466183e-02,\n",
       "          2.51493722e-01],\n",
       "        [-1.10449135e-01,  1.36491597e-01, -1.17894530e-01,\n",
       "          1.66024685e-01, -2.20976681e-01, -1.11146554e-01,\n",
       "          1.84866428e-01, -5.39239496e-02,  2.13193059e-01,\n",
       "          2.05281615e-01],\n",
       "        [-1.48533002e-01,  2.01790273e-01,  1.81517839e-01,\n",
       "          1.83202922e-01,  2.23267525e-01, -2.82207191e-01,\n",
       "         -2.13149205e-01,  7.78845251e-02,  1.13834769e-01,\n",
       "         -1.09808534e-01],\n",
       "        [-1.97383463e-01,  6.48987591e-02,  1.14585876e-01,\n",
       "         -1.08123794e-01, -2.56604850e-01, -1.45664006e-01,\n",
       "         -9.26360488e-03,  9.28187370e-02,  2.46788532e-01,\n",
       "         -2.29720175e-01],\n",
       "        [-1.00357220e-01, -6.17951453e-02,  2.30100244e-01,\n",
       "          1.65599644e-01, -1.45459533e-01,  2.43316501e-01,\n",
       "          2.03595251e-01, -2.26128578e-01, -2.55634248e-01,\n",
       "         -2.67777979e-01]], dtype=float32)>,\n",
       " <tf.Variable 'dense_3/bias:0' shape=(10,) dtype=float32, numpy=array([0., 0., 0., 0., 0., 0., 0., 0., 0., 0.], dtype=float32)>]"
      ]
     },
     "execution_count": 3,
     "metadata": {},
     "output_type": "execute_result"
    }
   ],
   "source": [
    "model.build(input_shape=(None, 3))\n",
    "model.weights"
   ]
  },
  {
   "cell_type": "markdown",
   "metadata": {
    "colab_type": "text"
   },
   "source": [
    "**The summary method**"
   ]
  },
  {
   "cell_type": "code",
   "execution_count": 4,
   "metadata": {
    "colab_type": "code"
   },
   "outputs": [
    {
     "name": "stdout",
     "output_type": "stream",
     "text": [
      "Model: \"sequential_1\"\n",
      "_________________________________________________________________\n",
      " Layer (type)                Output Shape              Param #   \n",
      "=================================================================\n",
      " dense_2 (Dense)             (None, 64)                256       \n",
      "                                                                 \n",
      " dense_3 (Dense)             (None, 10)                650       \n",
      "                                                                 \n",
      "=================================================================\n",
      "Total params: 906\n",
      "Trainable params: 906\n",
      "Non-trainable params: 0\n",
      "_________________________________________________________________\n"
     ]
    }
   ],
   "source": [
    "model.summary()"
   ]
  },
  {
   "cell_type": "markdown",
   "metadata": {
    "colab_type": "text"
   },
   "source": [
    "**Naming models and layers with the `name` argument**"
   ]
  },
  {
   "cell_type": "code",
   "execution_count": 5,
   "metadata": {
    "colab_type": "code"
   },
   "outputs": [
    {
     "name": "stdout",
     "output_type": "stream",
     "text": [
      "Model: \"my_example_model\"\n",
      "_________________________________________________________________\n",
      " Layer (type)                Output Shape              Param #   \n",
      "=================================================================\n",
      " my_first_layer (Dense)      (None, 64)                256       \n",
      "                                                                 \n",
      " my_last_layer (Dense)       (None, 10)                650       \n",
      "                                                                 \n",
      "=================================================================\n",
      "Total params: 906\n",
      "Trainable params: 906\n",
      "Non-trainable params: 0\n",
      "_________________________________________________________________\n"
     ]
    }
   ],
   "source": [
    "model = keras.Sequential(name=\"my_example_model\")\n",
    "model.add(layers.Dense(64, activation=\"relu\", name=\"my_first_layer\"))\n",
    "model.add(layers.Dense(10, activation=\"softmax\", name=\"my_last_layer\"))\n",
    "model.build((None, 3))\n",
    "model.summary()"
   ]
  },
  {
   "cell_type": "markdown",
   "metadata": {
    "colab_type": "text"
   },
   "source": [
    "**Specifying the input shape of your model in advance**"
   ]
  },
  {
   "cell_type": "code",
   "execution_count": 6,
   "metadata": {
    "colab_type": "code"
   },
   "outputs": [],
   "source": [
    "model = keras.Sequential()\n",
    "model.add(keras.Input(shape=(3,)))\n",
    "model.add(layers.Dense(64, activation=\"relu\"))"
   ]
  },
  {
   "cell_type": "code",
   "execution_count": 7,
   "metadata": {
    "colab_type": "code"
   },
   "outputs": [
    {
     "name": "stdout",
     "output_type": "stream",
     "text": [
      "Model: \"sequential_2\"\n",
      "_________________________________________________________________\n",
      " Layer (type)                Output Shape              Param #   \n",
      "=================================================================\n",
      " dense_4 (Dense)             (None, 64)                256       \n",
      "                                                                 \n",
      "=================================================================\n",
      "Total params: 256\n",
      "Trainable params: 256\n",
      "Non-trainable params: 0\n",
      "_________________________________________________________________\n"
     ]
    }
   ],
   "source": [
    "model.summary()"
   ]
  },
  {
   "cell_type": "code",
   "execution_count": 8,
   "metadata": {
    "colab_type": "code"
   },
   "outputs": [
    {
     "name": "stdout",
     "output_type": "stream",
     "text": [
      "Model: \"sequential_2\"\n",
      "_________________________________________________________________\n",
      " Layer (type)                Output Shape              Param #   \n",
      "=================================================================\n",
      " dense_4 (Dense)             (None, 64)                256       \n",
      "                                                                 \n",
      " dense_5 (Dense)             (None, 10)                650       \n",
      "                                                                 \n",
      "=================================================================\n",
      "Total params: 906\n",
      "Trainable params: 906\n",
      "Non-trainable params: 0\n",
      "_________________________________________________________________\n"
     ]
    }
   ],
   "source": [
    "model.add(layers.Dense(10, activation=\"softmax\"))\n",
    "model.summary()"
   ]
  },
  {
   "cell_type": "markdown",
   "metadata": {
    "colab_type": "text"
   },
   "source": [
    "### The Functional API"
   ]
  },
  {
   "cell_type": "markdown",
   "metadata": {
    "colab_type": "text"
   },
   "source": [
    "#### A simple example"
   ]
  },
  {
   "cell_type": "markdown",
   "metadata": {
    "colab_type": "text"
   },
   "source": [
    "**A simple Functional model with two `Dense` layers**"
   ]
  },
  {
   "cell_type": "code",
   "execution_count": 9,
   "metadata": {
    "colab_type": "code"
   },
   "outputs": [],
   "source": [
    "inputs = keras.Input(shape=(3,), name=\"my_input\")\n",
    "features = layers.Dense(64, activation=\"relu\")(inputs)\n",
    "outputs = layers.Dense(10, activation=\"softmax\")(features)\n",
    "model = keras.Model(inputs=inputs, outputs=outputs)"
   ]
  },
  {
   "cell_type": "code",
   "execution_count": 10,
   "metadata": {
    "colab_type": "code"
   },
   "outputs": [],
   "source": [
    "inputs = keras.Input(shape=(3,), name=\"my_input\")"
   ]
  },
  {
   "cell_type": "code",
   "execution_count": 11,
   "metadata": {
    "colab_type": "code"
   },
   "outputs": [
    {
     "data": {
      "text/plain": [
       "TensorShape([None, 3])"
      ]
     },
     "execution_count": 11,
     "metadata": {},
     "output_type": "execute_result"
    }
   ],
   "source": [
    "inputs.shape"
   ]
  },
  {
   "cell_type": "code",
   "execution_count": 12,
   "metadata": {
    "colab_type": "code"
   },
   "outputs": [
    {
     "data": {
      "text/plain": [
       "tf.float32"
      ]
     },
     "execution_count": 12,
     "metadata": {},
     "output_type": "execute_result"
    }
   ],
   "source": [
    "inputs.dtype"
   ]
  },
  {
   "cell_type": "code",
   "execution_count": 13,
   "metadata": {
    "colab_type": "code"
   },
   "outputs": [],
   "source": [
    "features = layers.Dense(64, activation=\"relu\")(inputs)"
   ]
  },
  {
   "cell_type": "code",
   "execution_count": 14,
   "metadata": {
    "colab_type": "code"
   },
   "outputs": [
    {
     "data": {
      "text/plain": [
       "TensorShape([None, 64])"
      ]
     },
     "execution_count": 14,
     "metadata": {},
     "output_type": "execute_result"
    }
   ],
   "source": [
    "features.shape"
   ]
  },
  {
   "cell_type": "code",
   "execution_count": 15,
   "metadata": {
    "colab_type": "code"
   },
   "outputs": [],
   "source": [
    "outputs = layers.Dense(10, activation=\"softmax\")(features)\n",
    "model = keras.Model(inputs=inputs, outputs=outputs)"
   ]
  },
  {
   "cell_type": "code",
   "execution_count": 16,
   "metadata": {
    "colab_type": "code"
   },
   "outputs": [
    {
     "name": "stdout",
     "output_type": "stream",
     "text": [
      "Model: \"model_1\"\n",
      "_________________________________________________________________\n",
      " Layer (type)                Output Shape              Param #   \n",
      "=================================================================\n",
      " my_input (InputLayer)       [(None, 3)]               0         \n",
      "                                                                 \n",
      " dense_8 (Dense)             (None, 64)                256       \n",
      "                                                                 \n",
      " dense_9 (Dense)             (None, 10)                650       \n",
      "                                                                 \n",
      "=================================================================\n",
      "Total params: 906\n",
      "Trainable params: 906\n",
      "Non-trainable params: 0\n",
      "_________________________________________________________________\n"
     ]
    }
   ],
   "source": [
    "model.summary()"
   ]
  },
  {
   "cell_type": "markdown",
   "metadata": {
    "colab_type": "text"
   },
   "source": [
    "#### Multi-input, multi-output models"
   ]
  },
  {
   "cell_type": "markdown",
   "metadata": {
    "colab_type": "text"
   },
   "source": [
    "**A multi-input, multi-output Functional model**"
   ]
  },
  {
   "cell_type": "code",
   "execution_count": 17,
   "metadata": {
    "colab_type": "code"
   },
   "outputs": [],
   "source": [
    "vocabulary_size = 10000\n",
    "num_tags = 100\n",
    "num_departments = 4\n",
    "\n",
    "title = keras.Input(shape=(vocabulary_size,), name=\"title\")\n",
    "text_body = keras.Input(shape=(vocabulary_size,), name=\"text_body\")\n",
    "tags = keras.Input(shape=(num_tags,), name=\"tags\")\n",
    "\n",
    "features = layers.Concatenate()([title, text_body, tags])\n",
    "features = layers.Dense(64, activation=\"relu\")(features)\n",
    "\n",
    "priority = layers.Dense(1, activation=\"sigmoid\", name=\"priority\")(features)\n",
    "department = layers.Dense(\n",
    "    num_departments, activation=\"softmax\", name=\"department\")(features)\n",
    "\n",
    "model = keras.Model(inputs=[title, text_body, tags], outputs=[priority, department])"
   ]
  },
  {
   "cell_type": "markdown",
   "metadata": {
    "colab_type": "text"
   },
   "source": [
    "#### Training a multi-input, multi-output model"
   ]
  },
  {
   "cell_type": "markdown",
   "metadata": {
    "colab_type": "text"
   },
   "source": [
    "**Training a model by providing lists of input & target arrays**"
   ]
  },
  {
   "cell_type": "code",
   "execution_count": 18,
   "metadata": {
    "colab_type": "code"
   },
   "outputs": [
    {
     "name": "stdout",
     "output_type": "stream",
     "text": [
      "40/40 [==============================] - 1s 16ms/step - loss: 32.5760 - priority_loss: 0.3152 - department_loss: 32.2609 - priority_mean_absolute_error: 0.4793 - department_accuracy: 0.2516\n",
      "40/40 [==============================] - 0s 6ms/step - loss: 30.0943 - priority_loss: 0.2147 - department_loss: 29.8796 - priority_mean_absolute_error: 0.3818 - department_accuracy: 0.2523\n",
      "40/40 [==============================] - 0s 4ms/step\n"
     ]
    }
   ],
   "source": [
    "import numpy as np\n",
    "\n",
    "num_samples = 1280\n",
    "\n",
    "title_data = np.random.randint(0, 2, size=(num_samples, vocabulary_size))\n",
    "text_body_data = np.random.randint(0, 2, size=(num_samples, vocabulary_size))\n",
    "tags_data = np.random.randint(0, 2, size=(num_samples, num_tags))\n",
    "\n",
    "priority_data = np.random.random(size=(num_samples, 1))\n",
    "department_data = np.random.randint(0, 2, size=(num_samples, num_departments))\n",
    "\n",
    "model.compile(optimizer=\"rmsprop\",\n",
    "              loss=[\"mean_squared_error\", \"categorical_crossentropy\"],\n",
    "              metrics=[[\"mean_absolute_error\"], [\"accuracy\"]])\n",
    "model.fit([title_data, text_body_data, tags_data],\n",
    "          [priority_data, department_data],\n",
    "          epochs=1)\n",
    "model.evaluate([title_data, text_body_data, tags_data],\n",
    "               [priority_data, department_data])\n",
    "priority_preds, department_preds = model.predict([title_data, text_body_data, tags_data])"
   ]
  },
  {
   "cell_type": "markdown",
   "metadata": {
    "colab_type": "text"
   },
   "source": [
    "**Training a model by providing dicts of input & target arrays**"
   ]
  },
  {
   "cell_type": "code",
   "execution_count": 19,
   "metadata": {
    "colab_type": "code"
   },
   "outputs": [
    {
     "name": "stdout",
     "output_type": "stream",
     "text": [
      "40/40 [==============================] - 1s 17ms/step - loss: 43.2234 - priority_loss: 0.3319 - department_loss: 42.8915 - priority_mean_absolute_error: 0.4955 - department_accuracy: 0.2523\n",
      "40/40 [==============================] - 0s 5ms/step - loss: 55.6217 - priority_loss: 0.3435 - department_loss: 55.2781 - priority_mean_absolute_error: 0.5068 - department_accuracy: 0.5789\n",
      "40/40 [==============================] - 0s 5ms/step\n"
     ]
    }
   ],
   "source": [
    "model.compile(optimizer=\"rmsprop\",\n",
    "              loss={\"priority\": \"mean_squared_error\", \"department\": \"categorical_crossentropy\"},\n",
    "              metrics={\"priority\": [\"mean_absolute_error\"], \"department\": [\"accuracy\"]})\n",
    "model.fit({\"title\": title_data, \"text_body\": text_body_data, \"tags\": tags_data},\n",
    "          {\"priority\": priority_data, \"department\": department_data},\n",
    "          epochs=1)\n",
    "model.evaluate({\"title\": title_data, \"text_body\": text_body_data, \"tags\": tags_data},\n",
    "               {\"priority\": priority_data, \"department\": department_data})\n",
    "priority_preds, department_preds = model.predict(\n",
    "    {\"title\": title_data, \"text_body\": text_body_data, \"tags\": tags_data})"
   ]
  },
  {
   "cell_type": "markdown",
   "metadata": {
    "colab_type": "text"
   },
   "source": [
    "#### The power of the Functional API: Access to layer connectivity"
   ]
  },
  {
   "cell_type": "code",
   "execution_count": 20,
   "metadata": {
    "colab_type": "code"
   },
   "outputs": [
    {
     "name": "stdout",
     "output_type": "stream",
     "text": [
      "You must install pydot (`pip install pydot`) and install graphviz (see instructions at https://graphviz.gitlab.io/download/) for plot_model to work.\n"
     ]
    }
   ],
   "source": [
    "keras.utils.plot_model(model, \"ticket_classifier.png\")"
   ]
  },
  {
   "cell_type": "code",
   "execution_count": 21,
   "metadata": {
    "colab_type": "code"
   },
   "outputs": [
    {
     "name": "stdout",
     "output_type": "stream",
     "text": [
      "You must install pydot (`pip install pydot`) and install graphviz (see instructions at https://graphviz.gitlab.io/download/) for plot_model to work.\n"
     ]
    }
   ],
   "source": [
    "keras.utils.plot_model(model, \"ticket_classifier_with_shape_info.png\", show_shapes=True)"
   ]
  },
  {
   "cell_type": "markdown",
   "metadata": {
    "colab_type": "text"
   },
   "source": [
    "**Retrieving the inputs or outputs of a layer in a Functional model**"
   ]
  },
  {
   "cell_type": "code",
   "execution_count": 22,
   "metadata": {
    "colab_type": "code"
   },
   "outputs": [
    {
     "data": {
      "text/plain": [
       "[<keras.engine.input_layer.InputLayer at 0x293b6163430>,\n",
       " <keras.engine.input_layer.InputLayer at 0x293b6163490>,\n",
       " <keras.engine.input_layer.InputLayer at 0x293b6163460>,\n",
       " <keras.layers.merging.concatenate.Concatenate at 0x293b6163df0>,\n",
       " <keras.layers.core.dense.Dense at 0x293b6163ac0>,\n",
       " <keras.layers.core.dense.Dense at 0x293b6163280>,\n",
       " <keras.layers.core.dense.Dense at 0x293b61621c0>]"
      ]
     },
     "execution_count": 22,
     "metadata": {},
     "output_type": "execute_result"
    }
   ],
   "source": [
    "model.layers"
   ]
  },
  {
   "cell_type": "code",
   "execution_count": 23,
   "metadata": {
    "colab_type": "code"
   },
   "outputs": [
    {
     "data": {
      "text/plain": [
       "[<KerasTensor: shape=(None, 10000) dtype=float32 (created by layer 'title')>,\n",
       " <KerasTensor: shape=(None, 10000) dtype=float32 (created by layer 'text_body')>,\n",
       " <KerasTensor: shape=(None, 100) dtype=float32 (created by layer 'tags')>]"
      ]
     },
     "execution_count": 23,
     "metadata": {},
     "output_type": "execute_result"
    }
   ],
   "source": [
    "model.layers[3].input"
   ]
  },
  {
   "cell_type": "code",
   "execution_count": 24,
   "metadata": {
    "colab_type": "code"
   },
   "outputs": [
    {
     "data": {
      "text/plain": [
       "<KerasTensor: shape=(None, 20100) dtype=float32 (created by layer 'concatenate')>"
      ]
     },
     "execution_count": 24,
     "metadata": {},
     "output_type": "execute_result"
    }
   ],
   "source": [
    "model.layers[3].output"
   ]
  },
  {
   "cell_type": "markdown",
   "metadata": {
    "colab_type": "text"
   },
   "source": [
    "**Creating a new model by reusing intermediate layer outputs**"
   ]
  },
  {
   "cell_type": "code",
   "execution_count": 25,
   "metadata": {
    "colab_type": "code"
   },
   "outputs": [],
   "source": [
    "features = model.layers[4].output\n",
    "difficulty = layers.Dense(3, activation=\"softmax\", name=\"difficulty\")(features)\n",
    "\n",
    "new_model = keras.Model(\n",
    "    inputs=[title, text_body, tags],\n",
    "    outputs=[priority, department, difficulty])"
   ]
  },
  {
   "cell_type": "code",
   "execution_count": 26,
   "metadata": {
    "colab_type": "code"
   },
   "outputs": [
    {
     "name": "stdout",
     "output_type": "stream",
     "text": [
      "You must install pydot (`pip install pydot`) and install graphviz (see instructions at https://graphviz.gitlab.io/download/) for plot_model to work.\n"
     ]
    }
   ],
   "source": [
    "keras.utils.plot_model(new_model, \"updated_ticket_classifier.png\", show_shapes=True)"
   ]
  },
  {
   "cell_type": "markdown",
   "metadata": {
    "colab_type": "text"
   },
   "source": [
    "### Subclassing the Model class"
   ]
  },
  {
   "cell_type": "markdown",
   "metadata": {
    "colab_type": "text"
   },
   "source": [
    "#### Rewriting our previous example as a subclassed model"
   ]
  },
  {
   "cell_type": "markdown",
   "metadata": {
    "colab_type": "text"
   },
   "source": [
    "**A simple subclassed model**"
   ]
  },
  {
   "cell_type": "code",
   "execution_count": 27,
   "metadata": {
    "colab_type": "code"
   },
   "outputs": [],
   "source": [
    "class CustomerTicketModel(keras.Model):\n",
    "\n",
    "    def __init__(self, num_departments):\n",
    "        super().__init__()\n",
    "        self.concat_layer = layers.Concatenate()\n",
    "        self.mixing_layer = layers.Dense(64, activation=\"relu\")\n",
    "        self.priority_scorer = layers.Dense(1, activation=\"sigmoid\")\n",
    "        self.department_classifier = layers.Dense(\n",
    "            num_departments, activation=\"softmax\")\n",
    "\n",
    "    def call(self, inputs):\n",
    "        title = inputs[\"title\"]\n",
    "        text_body = inputs[\"text_body\"]\n",
    "        tags = inputs[\"tags\"]\n",
    "\n",
    "        features = self.concat_layer([title, text_body, tags])\n",
    "        features = self.mixing_layer(features)\n",
    "        priority = self.priority_scorer(features)\n",
    "        department = self.department_classifier(features)\n",
    "        return priority, department"
   ]
  },
  {
   "cell_type": "code",
   "execution_count": 28,
   "metadata": {
    "colab_type": "code"
   },
   "outputs": [],
   "source": [
    "model = CustomerTicketModel(num_departments=4)\n",
    "\n",
    "priority, department = model(\n",
    "    {\"title\": title_data, \"text_body\": text_body_data, \"tags\": tags_data})"
   ]
  },
  {
   "cell_type": "code",
   "execution_count": 29,
   "metadata": {
    "colab_type": "code"
   },
   "outputs": [
    {
     "name": "stdout",
     "output_type": "stream",
     "text": [
      "40/40 [==============================] - 1s 18ms/step - loss: 36.1282 - output_1_loss: 0.3215 - output_2_loss: 35.8067 - output_1_mean_absolute_error: 0.4853 - output_2_accuracy: 0.2258\n",
      "40/40 [==============================] - 0s 5ms/step - loss: 43.5111 - output_1_loss: 0.3298 - output_2_loss: 43.1813 - output_1_mean_absolute_error: 0.4932 - output_2_accuracy: 0.5789\n",
      "40/40 [==============================] - 0s 5ms/step\n"
     ]
    }
   ],
   "source": [
    "model.compile(optimizer=\"rmsprop\",\n",
    "              loss=[\"mean_squared_error\", \"categorical_crossentropy\"],\n",
    "              metrics=[[\"mean_absolute_error\"], [\"accuracy\"]])\n",
    "model.fit({\"title\": title_data,\n",
    "           \"text_body\": text_body_data,\n",
    "           \"tags\": tags_data},\n",
    "          [priority_data, department_data],\n",
    "          epochs=1)\n",
    "model.evaluate({\"title\": title_data,\n",
    "                \"text_body\": text_body_data,\n",
    "                \"tags\": tags_data},\n",
    "               [priority_data, department_data])\n",
    "priority_preds, department_preds = model.predict({\"title\": title_data,\n",
    "                                                  \"text_body\": text_body_data,\n",
    "                                                  \"tags\": tags_data})"
   ]
  },
  {
   "cell_type": "markdown",
   "metadata": {
    "colab_type": "text"
   },
   "source": [
    "#### Beware: What subclassed models don't support"
   ]
  },
  {
   "cell_type": "markdown",
   "metadata": {
    "colab_type": "text"
   },
   "source": [
    "### Mixing and matching different components"
   ]
  },
  {
   "cell_type": "markdown",
   "metadata": {
    "colab_type": "text"
   },
   "source": [
    "**Creating a Functional model that includes a subclassed model**"
   ]
  },
  {
   "cell_type": "code",
   "execution_count": 30,
   "metadata": {
    "colab_type": "code"
   },
   "outputs": [],
   "source": [
    "class Classifier(keras.Model):\n",
    "\n",
    "    def __init__(self, num_classes=2):\n",
    "        super().__init__()\n",
    "        if num_classes == 2:\n",
    "            num_units = 1\n",
    "            activation = \"sigmoid\"\n",
    "        else:\n",
    "            num_units = num_classes\n",
    "            activation = \"softmax\"\n",
    "        self.dense = layers.Dense(num_units, activation=activation)\n",
    "\n",
    "    def call(self, inputs):\n",
    "        return self.dense(inputs)\n",
    "\n",
    "inputs = keras.Input(shape=(3,))\n",
    "features = layers.Dense(64, activation=\"relu\")(inputs)\n",
    "outputs = Classifier(num_classes=10)(features)\n",
    "model = keras.Model(inputs=inputs, outputs=outputs)"
   ]
  },
  {
   "cell_type": "markdown",
   "metadata": {
    "colab_type": "text"
   },
   "source": [
    "**Creating a subclassed model that includes a Functional model**"
   ]
  },
  {
   "cell_type": "code",
   "execution_count": 31,
   "metadata": {
    "colab_type": "code"
   },
   "outputs": [],
   "source": [
    "inputs = keras.Input(shape=(64,))\n",
    "outputs = layers.Dense(1, activation=\"sigmoid\")(inputs)\n",
    "binary_classifier = keras.Model(inputs=inputs, outputs=outputs)\n",
    "\n",
    "class MyModel(keras.Model):\n",
    "\n",
    "    def __init__(self, num_classes=2):\n",
    "        super().__init__()\n",
    "        self.dense = layers.Dense(64, activation=\"relu\")\n",
    "        self.classifier = binary_classifier\n",
    "\n",
    "    def call(self, inputs):\n",
    "        features = self.dense(inputs)\n",
    "        return self.classifier(features)\n",
    "\n",
    "model = MyModel()"
   ]
  },
  {
   "cell_type": "markdown",
   "metadata": {
    "colab_type": "text"
   },
   "source": [
    "### Remember: Use the right tool for the job"
   ]
  },
  {
   "cell_type": "markdown",
   "metadata": {
    "colab_type": "text"
   },
   "source": [
    "## Using built-in training and evaluation loops"
   ]
  },
  {
   "cell_type": "markdown",
   "metadata": {
    "colab_type": "text"
   },
   "source": [
    "**The standard workflow: `compile()`, `fit()`, `evaluate()`, `predict()`**"
   ]
  },
  {
   "cell_type": "code",
   "execution_count": 32,
   "metadata": {
    "colab_type": "code"
   },
   "outputs": [
    {
     "name": "stdout",
     "output_type": "stream",
     "text": [
      "Epoch 1/3\n",
      "1563/1563 [==============================] - 10s 6ms/step - loss: 0.2946 - accuracy: 0.9119 - val_loss: 0.1635 - val_accuracy: 0.9540\n",
      "Epoch 2/3\n",
      "1563/1563 [==============================] - 9s 6ms/step - loss: 0.1661 - accuracy: 0.9538 - val_loss: 0.1308 - val_accuracy: 0.9656\n",
      "Epoch 3/3\n",
      "1563/1563 [==============================] - 9s 6ms/step - loss: 0.1433 - accuracy: 0.9626 - val_loss: 0.1073 - val_accuracy: 0.9714\n",
      "313/313 [==============================] - 0s 2ms/step - loss: 0.0969 - accuracy: 0.9745\n",
      "313/313 [==============================] - 0s 1ms/step\n"
     ]
    }
   ],
   "source": [
    "from tensorflow.keras.datasets import mnist\n",
    "\n",
    "def get_mnist_model():\n",
    "    inputs = keras.Input(shape=(28 * 28,))\n",
    "    features = layers.Dense(512, activation=\"relu\")(inputs)\n",
    "    features = layers.Dropout(0.5)(features)\n",
    "    outputs = layers.Dense(10, activation=\"softmax\")(features)\n",
    "    model = keras.Model(inputs, outputs)\n",
    "    return model\n",
    "\n",
    "(images, labels), (test_images, test_labels) = mnist.load_data()\n",
    "images = images.reshape((60000, 28 * 28)).astype(\"float32\") / 255\n",
    "test_images = test_images.reshape((10000, 28 * 28)).astype(\"float32\") / 255\n",
    "train_images, val_images = images[10000:], images[:10000]\n",
    "train_labels, val_labels = labels[10000:], labels[:10000]\n",
    "\n",
    "model = get_mnist_model()\n",
    "model.compile(optimizer=\"rmsprop\",\n",
    "              loss=\"sparse_categorical_crossentropy\",\n",
    "              metrics=[\"accuracy\"])\n",
    "model.fit(train_images, train_labels,\n",
    "          epochs=3,\n",
    "          validation_data=(val_images, val_labels))\n",
    "test_metrics = model.evaluate(test_images, test_labels)\n",
    "predictions = model.predict(test_images)"
   ]
  },
  {
   "cell_type": "markdown",
   "metadata": {
    "colab_type": "text"
   },
   "source": [
    "### Writing your own metrics"
   ]
  },
  {
   "cell_type": "markdown",
   "metadata": {
    "colab_type": "text"
   },
   "source": [
    "**Implementing a custom metric by subclassing the `Metric` class**"
   ]
  },
  {
   "cell_type": "code",
   "execution_count": 33,
   "metadata": {
    "colab_type": "code"
   },
   "outputs": [],
   "source": [
    "import tensorflow as tf\n",
    "\n",
    "class RootMeanSquaredError(keras.metrics.Metric):\n",
    "\n",
    "    def __init__(self, name=\"rmse\", **kwargs):\n",
    "        super().__init__(name=name, **kwargs)\n",
    "        self.mse_sum = self.add_weight(name=\"mse_sum\", initializer=\"zeros\")\n",
    "        self.total_samples = self.add_weight(\n",
    "            name=\"total_samples\", initializer=\"zeros\", dtype=\"int32\")\n",
    "\n",
    "    def update_state(self, y_true, y_pred, sample_weight=None):\n",
    "        y_true = tf.one_hot(y_true, depth=tf.shape(y_pred)[1])\n",
    "        mse = tf.reduce_sum(tf.square(y_true - y_pred))\n",
    "        self.mse_sum.assign_add(mse)\n",
    "        num_samples = tf.shape(y_pred)[0]\n",
    "        self.total_samples.assign_add(num_samples)\n",
    "\n",
    "    def result(self):\n",
    "        return tf.sqrt(self.mse_sum / tf.cast(self.total_samples, tf.float32))\n",
    "\n",
    "    def reset_state(self):\n",
    "        self.mse_sum.assign(0.)\n",
    "        self.total_samples.assign(0)"
   ]
  },
  {
   "cell_type": "code",
   "execution_count": 34,
   "metadata": {
    "colab_type": "code"
   },
   "outputs": [
    {
     "name": "stdout",
     "output_type": "stream",
     "text": [
      "Epoch 1/3\n",
      "1563/1563 [==============================] - 10s 6ms/step - loss: 0.2958 - accuracy: 0.9130 - rmse: 7.1851 - val_loss: 0.1519 - val_accuracy: 0.9555 - val_rmse: 7.3570\n",
      "Epoch 2/3\n",
      "1563/1563 [==============================] - 9s 6ms/step - loss: 0.1636 - accuracy: 0.9532 - rmse: 7.3551 - val_loss: 0.1260 - val_accuracy: 0.9661 - val_rmse: 7.4067\n",
      "Epoch 3/3\n",
      "1563/1563 [==============================] - 9s 6ms/step - loss: 0.1392 - accuracy: 0.9622 - rmse: 7.3893 - val_loss: 0.1151 - val_accuracy: 0.9704 - val_rmse: 7.4162\n",
      "313/313 [==============================] - 0s 1ms/step - loss: 0.1068 - accuracy: 0.9714 - rmse: 7.4318\n"
     ]
    }
   ],
   "source": [
    "model = get_mnist_model()\n",
    "model.compile(optimizer=\"rmsprop\",\n",
    "              loss=\"sparse_categorical_crossentropy\",\n",
    "              metrics=[\"accuracy\", RootMeanSquaredError()])\n",
    "model.fit(train_images, train_labels,\n",
    "          epochs=3,\n",
    "          validation_data=(val_images, val_labels))\n",
    "test_metrics = model.evaluate(test_images, test_labels)"
   ]
  },
  {
   "cell_type": "markdown",
   "metadata": {
    "colab_type": "text"
   },
   "source": [
    "### Using callbacks"
   ]
  },
  {
   "cell_type": "markdown",
   "metadata": {
    "colab_type": "text"
   },
   "source": [
    "#### The EarlyStopping and ModelCheckpoint callbacks"
   ]
  },
  {
   "cell_type": "markdown",
   "metadata": {
    "colab_type": "text"
   },
   "source": [
    "**Using the `callbacks` argument in the `fit()` method**"
   ]
  },
  {
   "cell_type": "code",
   "execution_count": 35,
   "metadata": {
    "colab_type": "code"
   },
   "outputs": [
    {
     "name": "stdout",
     "output_type": "stream",
     "text": [
      "Epoch 1/10\n",
      "1563/1563 [==============================] - 9s 6ms/step - loss: 0.2932 - accuracy: 0.9136 - val_loss: 0.1467 - val_accuracy: 0.9577\n",
      "Epoch 2/10\n",
      "1563/1563 [==============================] - 9s 6ms/step - loss: 0.1631 - accuracy: 0.9534 - val_loss: 0.1233 - val_accuracy: 0.9652\n",
      "Epoch 3/10\n",
      "1563/1563 [==============================] - 9s 6ms/step - loss: 0.1388 - accuracy: 0.9625 - val_loss: 0.1081 - val_accuracy: 0.9705\n",
      "Epoch 4/10\n",
      "1563/1563 [==============================] - 9s 6ms/step - loss: 0.1258 - accuracy: 0.9683 - val_loss: 0.1103 - val_accuracy: 0.9730\n",
      "Epoch 5/10\n",
      "1563/1563 [==============================] - 9s 6ms/step - loss: 0.1170 - accuracy: 0.9705 - val_loss: 0.1121 - val_accuracy: 0.9735\n",
      "Epoch 6/10\n",
      "1563/1563 [==============================] - 9s 6ms/step - loss: 0.1088 - accuracy: 0.9737 - val_loss: 0.1097 - val_accuracy: 0.9745\n",
      "Epoch 7/10\n",
      "1563/1563 [==============================] - 10s 6ms/step - loss: 0.1048 - accuracy: 0.9756 - val_loss: 0.1108 - val_accuracy: 0.9768\n",
      "Epoch 8/10\n",
      "1563/1563 [==============================] - 9s 6ms/step - loss: 0.0982 - accuracy: 0.9767 - val_loss: 0.1187 - val_accuracy: 0.9767\n",
      "Epoch 9/10\n",
      "1563/1563 [==============================] - 8s 5ms/step - loss: 0.0986 - accuracy: 0.9775 - val_loss: 0.1203 - val_accuracy: 0.9760\n"
     ]
    },
    {
     "data": {
      "text/plain": [
       "<keras.callbacks.History at 0x293be28da00>"
      ]
     },
     "execution_count": 35,
     "metadata": {},
     "output_type": "execute_result"
    }
   ],
   "source": [
    "callbacks_list = [\n",
    "    keras.callbacks.EarlyStopping(\n",
    "        monitor=\"val_accuracy\",\n",
    "        patience=2,\n",
    "    ),\n",
    "    keras.callbacks.ModelCheckpoint(\n",
    "        filepath=\"checkpoint_path.keras\",\n",
    "        monitor=\"val_loss\",\n",
    "        save_best_only=True,\n",
    "    )\n",
    "]\n",
    "model = get_mnist_model()\n",
    "model.compile(optimizer=\"rmsprop\",\n",
    "              loss=\"sparse_categorical_crossentropy\",\n",
    "              metrics=[\"accuracy\"])\n",
    "model.fit(train_images, train_labels,\n",
    "          epochs=10,\n",
    "          callbacks=callbacks_list,\n",
    "          validation_data=(val_images, val_labels))"
   ]
  },
  {
   "cell_type": "code",
   "execution_count": 36,
   "metadata": {
    "colab_type": "code"
   },
   "outputs": [],
   "source": [
    "model = keras.models.load_model(\"checkpoint_path.keras\")"
   ]
  },
  {
   "cell_type": "markdown",
   "metadata": {
    "colab_type": "text"
   },
   "source": [
    "### Writing your own callbacks"
   ]
  },
  {
   "cell_type": "markdown",
   "metadata": {
    "colab_type": "text"
   },
   "source": [
    "**Creating a custom callback by subclassing the `Callback` class**"
   ]
  },
  {
   "cell_type": "code",
   "execution_count": 37,
   "metadata": {
    "colab_type": "code"
   },
   "outputs": [],
   "source": [
    "from matplotlib import pyplot as plt\n",
    "\n",
    "class LossHistory(keras.callbacks.Callback):\n",
    "    def on_train_begin(self, logs):\n",
    "        self.per_batch_losses = []\n",
    "\n",
    "    def on_batch_end(self, batch, logs):\n",
    "        self.per_batch_losses.append(logs.get(\"loss\"))\n",
    "\n",
    "    def on_epoch_end(self, epoch, logs):\n",
    "        plt.clf()\n",
    "        plt.plot(range(len(self.per_batch_losses)), self.per_batch_losses,\n",
    "                 label=\"Training loss for each batch\")\n",
    "        plt.xlabel(f\"Batch (epoch {epoch})\")\n",
    "        plt.ylabel(\"Loss\")\n",
    "        plt.legend()\n",
    "        plt.savefig(f\"plot_at_epoch_{epoch}\")\n",
    "        self.per_batch_losses = []"
   ]
  },
  {
   "cell_type": "code",
   "execution_count": 38,
   "metadata": {
    "colab_type": "code"
   },
   "outputs": [
    {
     "name": "stdout",
     "output_type": "stream",
     "text": [
      "Epoch 1/10\n",
      "1563/1563 [==============================] - 9s 6ms/step - loss: 0.2938 - accuracy: 0.9134 - val_loss: 0.1522 - val_accuracy: 0.9569\n",
      "Epoch 2/10\n",
      "1563/1563 [==============================] - 10s 6ms/step - loss: 0.1655 - accuracy: 0.9539 - val_loss: 0.1185 - val_accuracy: 0.9671\n",
      "Epoch 3/10\n",
      "1563/1563 [==============================] - 13s 8ms/step - loss: 0.1415 - accuracy: 0.9616 - val_loss: 0.1094 - val_accuracy: 0.9719\n",
      "Epoch 4/10\n",
      "1563/1563 [==============================] - 10s 7ms/step - loss: 0.1279 - accuracy: 0.9668 - val_loss: 0.1084 - val_accuracy: 0.9724\n",
      "Epoch 5/10\n",
      "1563/1563 [==============================] - 11s 7ms/step - loss: 0.1171 - accuracy: 0.9709 - val_loss: 0.1130 - val_accuracy: 0.9739\n",
      "Epoch 6/10\n",
      "1563/1563 [==============================] - 11s 7ms/step - loss: 0.1142 - accuracy: 0.9719 - val_loss: 0.1118 - val_accuracy: 0.9745\n",
      "Epoch 7/10\n",
      "1563/1563 [==============================] - 9s 6ms/step - loss: 0.1046 - accuracy: 0.9747 - val_loss: 0.1125 - val_accuracy: 0.9740\n",
      "Epoch 8/10\n",
      "1563/1563 [==============================] - 9s 6ms/step - loss: 0.1024 - accuracy: 0.9761 - val_loss: 0.1070 - val_accuracy: 0.9777\n",
      "Epoch 9/10\n",
      "1563/1563 [==============================] - 13s 8ms/step - loss: 0.1016 - accuracy: 0.9774 - val_loss: 0.1119 - val_accuracy: 0.9776\n",
      "Epoch 10/10\n",
      "1563/1563 [==============================] - 11s 7ms/step - loss: 0.0926 - accuracy: 0.9787 - val_loss: 0.1164 - val_accuracy: 0.9799\n"
     ]
    },
    {
     "data": {
      "text/plain": [
       "<keras.callbacks.History at 0x293c121d070>"
      ]
     },
     "execution_count": 38,
     "metadata": {},
     "output_type": "execute_result"
    },
    {
     "data": {
      "image/png": "[encoded data removed]",
      "text/plain": [
       "<Figure size 640x480 with 1 Axes>"
      ]
     },
     "metadata": {},
     "output_type": "display_data"
    }
   ],
   "source": [
    "model = get_mnist_model()\n",
    "model.compile(optimizer=\"rmsprop\",\n",
    "              loss=\"sparse_categorical_crossentropy\",\n",
    "              metrics=[\"accuracy\"])\n",
    "model.fit(train_images, train_labels,\n",
    "          epochs=10,\n",
    "          callbacks=[LossHistory()],\n",
    "          validation_data=(val_images, val_labels))"
   ]
  },
  {
   "cell_type": "markdown",
   "metadata": {
    "colab_type": "text"
   },
   "source": [
    "### Monitoring and visualization with TensorBoard"
   ]
  },
  {
   "cell_type": "code",
   "execution_count": 39,
   "metadata": {
    "colab_type": "code"
   },
   "outputs": [
    {
     "name": "stdout",
     "output_type": "stream",
     "text": [
      "Epoch 1/10\n",
      "1563/1563 [==============================] - 11s 7ms/step - loss: 0.2935 - accuracy: 0.9115 - val_loss: 0.1495 - val_accuracy: 0.9582\n",
      "Epoch 2/10\n",
      "1563/1563 [==============================] - 10s 6ms/step - loss: 0.1662 - accuracy: 0.9531 - val_loss: 0.1253 - val_accuracy: 0.9648\n",
      "Epoch 3/10\n",
      "1563/1563 [==============================] - 9s 6ms/step - loss: 0.1392 - accuracy: 0.9622 - val_loss: 0.1162 - val_accuracy: 0.9685\n",
      "Epoch 4/10\n",
      "1563/1563 [==============================] - 9s 6ms/step - loss: 0.1247 - accuracy: 0.9668 - val_loss: 0.1149 - val_accuracy: 0.9737\n",
      "Epoch 5/10\n",
      "1563/1563 [==============================] - 10s 6ms/step - loss: 0.1171 - accuracy: 0.9704 - val_loss: 0.1157 - val_accuracy: 0.9722\n",
      "Epoch 6/10\n",
      "1563/1563 [==============================] - 9s 6ms/step - loss: 0.1115 - accuracy: 0.9739 - val_loss: 0.1167 - val_accuracy: 0.9757\n",
      "Epoch 7/10\n",
      "1563/1563 [==============================] - 9s 6ms/step - loss: 0.1052 - accuracy: 0.9750 - val_loss: 0.1075 - val_accuracy: 0.9780\n",
      "Epoch 8/10\n",
      "1563/1563 [==============================] - 9s 6ms/step - loss: 0.1005 - accuracy: 0.9764 - val_loss: 0.1152 - val_accuracy: 0.9788\n",
      "Epoch 9/10\n",
      "1563/1563 [==============================] - 8s 5ms/step - loss: 0.1005 - accuracy: 0.9775 - val_loss: 0.1234 - val_accuracy: 0.9781\n",
      "Epoch 10/10\n",
      "1563/1563 [==============================] - 9s 6ms/step - loss: 0.0935 - accuracy: 0.9788 - val_loss: 0.1203 - val_accuracy: 0.9778\n"
     ]
    },
    {
     "data": {
      "text/plain": [
       "<keras.callbacks.History at 0x293bf690640>"
      ]
     },
     "execution_count": 39,
     "metadata": {},
     "output_type": "execute_result"
    }
   ],
   "source": [
    "model = get_mnist_model()\n",
    "model.compile(optimizer=\"rmsprop\",\n",
    "              loss=\"sparse_categorical_crossentropy\",\n",
    "              metrics=[\"accuracy\"])\n",
    "\n",
    "tensorboard = keras.callbacks.TensorBoard(\n",
    "    log_dir=\"/full_path_to_your_log_dir\",\n",
    ")\n",
    "model.fit(train_images, train_labels,\n",
    "          epochs=10,\n",
    "          validation_data=(val_images, val_labels),\n",
    "          callbacks=[tensorboard])"
   ]
  },
  {
   "cell_type": "code",
   "execution_count": 40,
   "metadata": {
    "colab_type": "code"
   },
   "outputs": [
    {
     "data": {
      "text/html": [
       "\n",
       "      <iframe id=\"tensorboard-frame-7b73dbdab354e1d3\" width=\"100%\" height=\"800\" frameborder=\"0\">\n",
       "      </iframe>\n",
       "      <script>\n",
       "        (function() {\n",
       "          const frame = document.getElementById(\"tensorboard-frame-7b73dbdab354e1d3\");\n",
       "          const url = new URL(\"/\", window.location);\n",
       "          const port = 6006;\n",
       "          if (port) {\n",
       "            url.port = port;\n",
       "          }\n",
       "          frame.src = url;\n",
       "        })();\n",
       "      </script>\n",
       "    "
      ],
      "text/plain": [
       "<IPython.core.display.HTML object>"
      ]
     },
     "metadata": {},
     "output_type": "display_data"
    }
   ],
   "source": [
    "%load_ext tensorboard\n",
    "%tensorboard --logdir /full_path_to_your_log_dir"
   ]
  },
  {
   "cell_type": "markdown",
   "metadata": {
    "colab_type": "text"
   },
   "source": [
    "## Writing your own training and evaluation loops"
   ]
  },
  {
   "cell_type": "markdown",
   "metadata": {
    "colab_type": "text"
   },
   "source": [
    "### Training versus inference"
   ]
  },
  {
   "cell_type": "markdown",
   "metadata": {
    "colab_type": "text"
   },
   "source": [
    "### Low-level usage of metrics"
   ]
  },
  {
   "cell_type": "code",
   "execution_count": 41,
   "metadata": {
    "colab_type": "code"
   },
   "outputs": [
    {
     "name": "stdout",
     "output_type": "stream",
     "text": [
      "result: 1.00\n"
     ]
    }
   ],
   "source": [
    "metric = keras.metrics.SparseCategoricalAccuracy()\n",
    "targets = [0, 1, 2]\n",
    "predictions = [[1, 0, 0], [0, 1, 0], [0, 0, 1]]\n",
    "metric.update_state(targets, predictions)\n",
    "current_result = metric.result()\n",
    "print(f\"result: {current_result:.2f}\")"
   ]
  },
  {
   "cell_type": "code",
   "execution_count": 42,
   "metadata": {
    "colab_type": "code"
   },
   "outputs": [
    {
     "name": "stdout",
     "output_type": "stream",
     "text": [
      "Mean of values: 2.00\n"
     ]
    }
   ],
   "source": [
    "values = [0, 1, 2, 3, 4]\n",
    "mean_tracker = keras.metrics.Mean()\n",
    "for value in values:\n",
    "    mean_tracker.update_state(value)\n",
    "print(f\"Mean of values: {mean_tracker.result():.2f}\")"
   ]
  },
  {
   "cell_type": "markdown",
   "metadata": {
    "colab_type": "text"
   },
   "source": [
    "### A complete training and evaluation loop"
   ]
  },
  {
   "cell_type": "markdown",
   "metadata": {
    "colab_type": "text"
   },
   "source": [
    "**Writing a step-by-step training loop: the training step function**"
   ]
  },
  {
   "cell_type": "code",
   "execution_count": 43,
   "metadata": {
    "colab_type": "code"
   },
   "outputs": [],
   "source": [
    "model = get_mnist_model()\n",
    "\n",
    "loss_fn = keras.losses.SparseCategoricalCrossentropy()\n",
    "optimizer = keras.optimizers.RMSprop()\n",
    "metrics = [keras.metrics.SparseCategoricalAccuracy()]\n",
    "loss_tracking_metric = keras.metrics.Mean()\n",
    "\n",
    "def train_step(inputs, targets):\n",
    "    with tf.GradientTape() as tape:\n",
    "        predictions = model(inputs, training=True)\n",
    "        loss = loss_fn(targets, predictions)\n",
    "    gradients = tape.gradient(loss, model.trainable_weights)\n",
    "    optimizer.apply_gradients(zip(gradients, model.trainable_weights))\n",
    "\n",
    "    logs = {}\n",
    "    for metric in metrics:\n",
    "        metric.update_state(targets, predictions)\n",
    "        logs[metric.name] = metric.result()\n",
    "\n",
    "    loss_tracking_metric.update_state(loss)\n",
    "    logs[\"loss\"] = loss_tracking_metric.result()\n",
    "    return logs"
   ]
  },
  {
   "cell_type": "markdown",
   "metadata": {
    "colab_type": "text"
   },
   "source": [
    "**Writing a step-by-step training loop: resetting the metrics**"
   ]
  },
  {
   "cell_type": "code",
   "execution_count": 44,
   "metadata": {
    "colab_type": "code"
   },
   "outputs": [],
   "source": [
    "def reset_metrics():\n",
    "    for metric in metrics:\n",
    "        metric.reset_state()\n",
    "    loss_tracking_metric.reset_state()"
   ]
  },
  {
   "cell_type": "markdown",
   "metadata": {
    "colab_type": "text"
   },
   "source": [
    "**Writing a step-by-step training loop: the loop itself**"
   ]
  },
  {
   "cell_type": "code",
   "execution_count": 45,
   "metadata": {
    "colab_type": "code"
   },
   "outputs": [
    {
     "name": "stdout",
     "output_type": "stream",
     "text": [
      "Results at the end of epoch 0\n",
      "...sparse_categorical_accuracy: 0.9128\n",
      "...loss: 0.2906\n",
      "Results at the end of epoch 1\n",
      "...sparse_categorical_accuracy: 0.9544\n",
      "...loss: 0.1660\n",
      "Results at the end of epoch 2\n",
      "...sparse_categorical_accuracy: 0.9639\n",
      "...loss: 0.1388\n"
     ]
    }
   ],
   "source": [
    "training_dataset = tf.data.Dataset.from_tensor_slices((train_images, train_labels))\n",
    "training_dataset = training_dataset.batch(32)\n",
    "epochs = 3\n",
    "for epoch in range(epochs):\n",
    "    reset_metrics()\n",
    "    for inputs_batch, targets_batch in training_dataset:\n",
    "        logs = train_step(inputs_batch, targets_batch)\n",
    "    print(f\"Results at the end of epoch {epoch}\")\n",
    "    for key, value in logs.items():\n",
    "        print(f\"...{key}: {value:.4f}\")"
   ]
  },
  {
   "cell_type": "markdown",
   "metadata": {
    "colab_type": "text"
   },
   "source": [
    "**Writing a step-by-step evaluation loop**"
   ]
  },
  {
   "cell_type": "code",
   "execution_count": 46,
   "metadata": {
    "colab_type": "code"
   },
   "outputs": [
    {
     "name": "stdout",
     "output_type": "stream",
     "text": [
      "Evaluation results:\n",
      "...val_sparse_categorical_accuracy: 0.9676\n",
      "...val_loss: 0.1293\n"
     ]
    }
   ],
   "source": [
    "def test_step(inputs, targets):\n",
    "    predictions = model(inputs, training=False)\n",
    "    loss = loss_fn(targets, predictions)\n",
    "\n",
    "    logs = {}\n",
    "    for metric in metrics:\n",
    "        metric.update_state(targets, predictions)\n",
    "        logs[\"val_\" + metric.name] = metric.result()\n",
    "\n",
    "    loss_tracking_metric.update_state(loss)\n",
    "    logs[\"val_loss\"] = loss_tracking_metric.result()\n",
    "    return logs\n",
    "\n",
    "val_dataset = tf.data.Dataset.from_tensor_slices((val_images, val_labels))\n",
    "val_dataset = val_dataset.batch(32)\n",
    "reset_metrics()\n",
    "for inputs_batch, targets_batch in val_dataset:\n",
    "    logs = test_step(inputs_batch, targets_batch)\n",
    "print(\"Evaluation results:\")\n",
    "for key, value in logs.items():\n",
    "    print(f\"...{key}: {value:.4f}\")"
   ]
  },
  {
   "cell_type": "markdown",
   "metadata": {
    "colab_type": "text"
   },
   "source": [
    "### Make it fast with tf.function"
   ]
  },
  {
   "cell_type": "markdown",
   "metadata": {
    "colab_type": "text"
   },
   "source": [
    "**Adding a `tf.function` decorator to our evaluation-step function**"
   ]
  },
  {
   "cell_type": "code",
   "execution_count": 47,
   "metadata": {
    "colab_type": "code"
   },
   "outputs": [
    {
     "name": "stdout",
     "output_type": "stream",
     "text": [
      "Evaluation results:\n",
      "...val_sparse_categorical_accuracy: 0.9676\n",
      "...val_loss: 0.1293\n"
     ]
    }
   ],
   "source": [
    "@tf.function\n",
    "def test_step(inputs, targets):\n",
    "    predictions = model(inputs, training=False)\n",
    "    loss = loss_fn(targets, predictions)\n",
    "\n",
    "    logs = {}\n",
    "    for metric in metrics:\n",
    "        metric.update_state(targets, predictions)\n",
    "        logs[\"val_\" + metric.name] = metric.result()\n",
    "\n",
    "    loss_tracking_metric.update_state(loss)\n",
    "    logs[\"val_loss\"] = loss_tracking_metric.result()\n",
    "    return logs\n",
    "\n",
    "val_dataset = tf.data.Dataset.from_tensor_slices((val_images, val_labels))\n",
    "val_dataset = val_dataset.batch(32)\n",
    "reset_metrics()\n",
    "for inputs_batch, targets_batch in val_dataset:\n",
    "    logs = test_step(inputs_batch, targets_batch)\n",
    "print(\"Evaluation results:\")\n",
    "for key, value in logs.items():\n",
    "    print(f\"...{key}: {value:.4f}\")"
   ]
  },
  {
   "cell_type": "markdown",
   "metadata": {
    "colab_type": "text"
   },
   "source": [
    "### Leveraging fit() with a custom training loop"
   ]
  },
  {
   "cell_type": "markdown",
   "metadata": {
    "colab_type": "text"
   },
   "source": [
    "**Implementing a custom training step to use with `fit()`**"
   ]
  },
  {
   "cell_type": "code",
   "execution_count": 48,
   "metadata": {
    "colab_type": "code"
   },
   "outputs": [],
   "source": [
    "loss_fn = keras.losses.SparseCategoricalCrossentropy()\n",
    "loss_tracker = keras.metrics.Mean(name=\"loss\")\n",
    "\n",
    "class CustomModel(keras.Model):\n",
    "    def train_step(self, data):\n",
    "        inputs, targets = data\n",
    "        with tf.GradientTape() as tape:\n",
    "            predictions = self(inputs, training=True)\n",
    "            loss = loss_fn(targets, predictions)\n",
    "        gradients = tape.gradient(loss, self.trainable_weights)\n",
    "        self.optimizer.apply_gradients(zip(gradients, self.trainable_weights))\n",
    "\n",
    "        loss_tracker.update_state(loss)\n",
    "        return {\"loss\": loss_tracker.result()}\n",
    "\n",
    "    @property\n",
    "    def metrics(self):\n",
    "        return [loss_tracker]"
   ]
  },
  {
   "cell_type": "code",
   "execution_count": 49,
   "metadata": {
    "colab_type": "code"
   },
   "outputs": [
    {
     "name": "stdout",
     "output_type": "stream",
     "text": [
      "Epoch 1/3\n",
      "1563/1563 [==============================] - 8s 5ms/step - loss: 0.2954\n",
      "Epoch 2/3\n",
      "1563/1563 [==============================] - 9s 6ms/step - loss: 0.1633\n",
      "Epoch 3/3\n",
      "1563/1563 [==============================] - 9s 6ms/step - loss: 0.1396\n"
     ]
    },
    {
     "data": {
      "text/plain": [
       "<keras.callbacks.History at 0x293b65d1fa0>"
      ]
     },
     "execution_count": 49,
     "metadata": {},
     "output_type": "execute_result"
    }
   ],
   "source": [
    "inputs = keras.Input(shape=(28 * 28,))\n",
    "features = layers.Dense(512, activation=\"relu\")(inputs)\n",
    "features = layers.Dropout(0.5)(features)\n",
    "outputs = layers.Dense(10, activation=\"softmax\")(features)\n",
    "model = CustomModel(inputs, outputs)\n",
    "\n",
    "model.compile(optimizer=keras.optimizers.RMSprop())\n",
    "model.fit(train_images, train_labels, epochs=3)"
   ]
  },
  {
   "cell_type": "code",
   "execution_count": 50,
   "metadata": {
    "colab_type": "code"
   },
   "outputs": [],
   "source": [
    "class CustomModel(keras.Model):\n",
    "    def train_step(self, data):\n",
    "        inputs, targets = data\n",
    "        with tf.GradientTape() as tape:\n",
    "            predictions = self(inputs, training=True)\n",
    "            loss = self.compiled_loss(targets, predictions)\n",
    "        gradients = tape.gradient(loss, self.trainable_weights)\n",
    "        self.optimizer.apply_gradients(zip(gradients, self.trainable_weights))\n",
    "        self.compiled_metrics.update_state(targets, predictions)\n",
    "        return {m.name: m.result() for m in self.metrics}"
   ]
  },
  {
   "cell_type": "code",
   "execution_count": 51,
   "metadata": {
    "colab_type": "code"
   },
   "outputs": [
    {
     "name": "stdout",
     "output_type": "stream",
     "text": [
      "Epoch 1/3\n",
      "1563/1563 [==============================] - 9s 6ms/step - loss: 0.2959 - sparse_categorical_accuracy: 0.9135\n",
      "Epoch 2/3\n",
      "1563/1563 [==============================] - 9s 6ms/step - loss: 0.1644 - sparse_categorical_accuracy: 0.9549\n",
      "Epoch 3/3\n",
      "1563/1563 [==============================] - 9s 6ms/step - loss: 0.1375 - sparse_categorical_accuracy: 0.9628\n"
     ]
    },
    {
     "data": {
      "text/plain": [
       "<keras.callbacks.History at 0x293bfa7a820>"
      ]
     },
     "execution_count": 51,
     "metadata": {},
     "output_type": "execute_result"
    }
   ],
   "source": [
    "inputs = keras.Input(shape=(28 * 28,))\n",
    "features = layers.Dense(512, activation=\"relu\")(inputs)\n",
    "features = layers.Dropout(0.5)(features)\n",
    "outputs = layers.Dense(10, activation=\"softmax\")(features)\n",
    "model = CustomModel(inputs, outputs)\n",
    "\n",
    "model.compile(optimizer=keras.optimizers.RMSprop(),\n",
    "              loss=keras.losses.SparseCategoricalCrossentropy(),\n",
    "              metrics=[keras.metrics.SparseCategoricalAccuracy()])\n",
    "model.fit(train_images, train_labels, epochs=3)"
   ]
  },
  {
   "cell_type": "markdown",
   "metadata": {
    "colab_type": "text"
   },
   "source": [
    "## Summary"
   ]
  },
  {
   "cell_type": "markdown",
   "metadata": {},
   "source": [
    "### 定義keras"
   ]
  },
  {
   "cell_type": "markdown",
   "metadata": {},
   "source": [
    "We create a Sequential model and add layers one at a time until we are happy with our network architecture."
   ]
  },
  {
   "cell_type": "markdown",
   "metadata": {},
   "source": [
    "Fully connected layers are defined using the Dense class. You can specify the number of neurons or nodes in the layer as the first argument and the activation function using the activation argument.\n",
    "\n",
    "Also, you will use the rectified linear unit activation function referred to as ReLU on the first two layers and the Sigmoid function in the output layer."
   ]
  },
  {
   "cell_type": "markdown",
   "metadata": {},
   "source": [
    "### 編譯keras\n",
    "指定用於評估一組權重的損失函數、用於搜索網絡不同權重的優化器，以及您希望在訓練期間收集和報告的任何可選指標。\n",
    "\n",
    "在這種情況下，使用交叉熵作為損失參數。這種損失是針對二元分類問題的，在 Keras 中定義為“ binary_crossentropy ”"
   ]
  },
  {
   "cell_type": "markdown",
   "metadata": {},
   "source": [
    "最後通過metrics參數定義的分類準確度。"
   ]
  },
  {
   "cell_type": "markdown",
   "metadata": {},
   "source": [
    "### 擬合 Keras 模型"
   ]
  },
  {
   "cell_type": "markdown",
   "metadata": {},
   "source": [
    "通過調用模型上的fit()函數來訓練或擬合模型。\n",
    "\n",
    "訓練發生在 epoch 上，每個 epoch 被分成批次。\n",
    "\n",
    "Epoch：一次遍歷訓練數據集中的所有行\n",
    "Batch：在權重更新之前，模型在一個時期內考慮的一個或多個樣本"
   ]
  },
  {
   "cell_type": "markdown",
   "metadata": {},
   "source": [
    "### 評估 Keras 模型"
   ]
  },
  {
   "cell_type": "markdown",
   "metadata": {},
   "source": [
    "使用evaluate()函數在訓練數據集上評估模型，並將用於訓練模型的相同輸入和輸出傳遞給它。"
   ]
  },
  {
   "cell_type": "markdown",
   "metadata": {},
   "source": [
    "### predict\n",
    "進行預測就像在模型上調用predict()函數一樣簡單。在輸出層上使用了 sigmoid 激活函數，因此預測將是介於 0 和 1 之間的概率。可以通過四捨五入輕鬆地將它們轉換為此分類任務的清晰二進制預測。"
   ]
  },
  {
   "cell_type": "markdown",
   "metadata": {},
   "source": [
    "ex:"
   ]
  },
  {
   "cell_type": "raw",
   "metadata": {},
   "source": [
    "...\n",
    "# make probability predictions with the model\n",
    "predictions = model.predict(X)\n",
    "# round predictions \n",
    "rounded = [round(x[0]) for x in predictions]"
   ]
  },
  {
   "cell_type": "code",
   "execution_count": null,
   "metadata": {},
   "outputs": [],
   "source": []
  }
 ],
 "metadata": {
  "colab": {
   "collapsed_sections": [],
   "name": "chapter07_working-with-keras.i",
   "private_outputs": false,
   "provenance": [],
   "toc_visible": true
  },
  "kernelspec": {
   "display_name": "Python 3 (ipykernel)",
   "language": "python",
   "name": "python3"
  },
  "language_info": {
   "codemirror_mode": {
    "name": "ipython",
    "version": 3
   },
   "file_extension": ".py",
   "mimetype": "text/x-python",
   "name": "python",
   "nbconvert_exporter": "python",
   "pygments_lexer": "ipython3",
   "version": "3.9.12"
  }
 },
 "nbformat": 4,
 "nbformat_minor": 1
}
