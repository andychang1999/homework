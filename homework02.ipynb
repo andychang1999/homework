{
  "nbformat": 4,
  "nbformat_minor": 0,
  "metadata": {
    "colab": {
      "provenance": []
    },
    "kernelspec": {
      "name": "python3",
      "display_name": "Python 3"
    },
    "language_info": {
      "name": "python"
    }
  },
  "cells": [
    {
      "cell_type": "code",
      "source": [
        "import tensorflow as tf\n",
        "import numpy as np\n",
        "from keras.datasets import mnist\n",
        "\n",
        "(train_images,train_labels),(test_images,test_labels) = mnist.load_data()"
      ],
      "metadata": {
        "id": "jFiw-6eH-zsG"
      },
      "execution_count": 131,
      "outputs": []
    },
    {
      "cell_type": "code",
      "source": [
        "train_images.shape, train_labels.shape, test_images.shape, test_labels.shape "
      ],
      "metadata": {
        "colab": {
          "base_uri": "https://localhost:8080/"
        },
        "id": "DUSMdOdjBCdU",
        "outputId": "9254eb6e-d56f-4752-c6cc-961208bb2d58"
      },
      "execution_count": 132,
      "outputs": [
        {
          "output_type": "execute_result",
          "data": {
            "text/plain": [
              "((60000, 28, 28), (60000,), (10000, 28, 28), (10000,))"
            ]
          },
          "metadata": {},
          "execution_count": 132
        }
      ]
    },
    {
      "cell_type": "code",
      "source": [
        "x= test_images[666]\n",
        "for i in range(28):\n",
        "    for j in range(28):\n",
        "        z= x[i,j]\n",
        "        print(f'{z:3d}', end='')\n",
        "    print()"
      ],
      "metadata": {
        "colab": {
          "base_uri": "https://localhost:8080/"
        },
        "id": "skaoO8l5_5gu",
        "outputId": "a181aba6-10b4-4256-d424-23308d6147c3"
      },
      "execution_count": 135,
      "outputs": [
        {
          "output_type": "stream",
          "name": "stdout",
          "text": [
            "  0  0  0  0  0  0  0  0  0  0  0  0  0  0  0  0  0  0  0  0  0  0  0  0  0  0  0  0\n",
            "  0  0  0  0  0  0  0  0  0  0  0  0  0  0  0  0  0  0  0  0  0  0  0  0  0  0  0  0\n",
            "  0  0  0  0  0  0  0  0  0  0  0  0  0  0  0  0  0  0  0  0  0  0  0  0  0  0  0  0\n",
            "  0  0  0  0  0  0  0  0  0  0  0  0  0  0  0  0  0  0  0  0  0  0  0  0  0  0  0  0\n",
            "  0  0  0  0  0  0  0  0  0  0  0  0  0  0  0  0  0  0  0  0  0  0  0  0  0  0  0  0\n",
            "  0  0  0  0  0  0  0  0  0  0  0  0  0  0  0  0  0  0  0  0  0  0  0  0  0  0  0  0\n",
            "  0  0  0  0  0  0  0  0  0  0  0  0  0  0  0  0  0  0  0  0  0  0  0  0  0  0  0  0\n",
            "  0  0  0  0  0  0  0  0  0  0  0  0  6 73163182254254254182  0  0  0  0  0  0  0  0\n",
            "  0  0  0  0  0  0  0  0  0  0  0 41185253254253206222253181  0  0  0  0  0  0  0  0\n",
            "  0  0  0  0  0  0  0  0  0 95146235237184101 36 24213253135  0  0  0  0  0  0  0  0\n",
            "  0  0  0  0  0  0  0  0 72254249176 31  0  0  0 76253253 20  0  0  0  0  0  0  0  0\n",
            "  0  0  0  0  0  0  0  0155254133  0  0  0  0  0192253220  0  0  0  0  0  0  0  0  0\n",
            "  0  0  0  0  0  0  0  0130156  7  0  0  0  0 55254248 52  0  0  0  0  0  0  0  0  0\n",
            "  0  0  0  0  0  0  0  0  0  0  0  0  0  0  0158253215  0  0  0  0  0  0  0  0  0  0\n",
            "  0  0  0  0  0  0  0  0  0  0  0  0  0  0 63250234 40  0  0  0  0  0  0  0  0  0  0\n",
            "  0  0  0  0  0  0  0  0  0  0  0  0  0  0 80253210  0  0  0  0  0  0  0  0  0  0  0\n",
            "  0  0  0  0  0  0  0  0  0  0  0  0  0  0195253127  0  0  0  0  0  0  0  0  0  0  0\n",
            "  0  0  0  0  0  0  0  0  0  0  0  0  0 27255238 26  0  0  0  0  0  0  0  0  0  0  0\n",
            "  0  0  0  0  0  0  0  0  0  0  0  0  0142254 63  0  0  0  0  0  0  0  0  0  0  0  0\n",
            "  0  0  0  0  0  0  0  0  0  0  0  0 16243254 18  0  0  0  0  0  0  0  0  0  0  0  0\n",
            "  0  0  0  0  0  0  0  0  0  0  0  0 25253222 10  0  0  0  0  0  0  0  0  0  0  0  0\n",
            "  0  0  0  0  0  0  0  0  0  0  0  0109253148  0  0  0  0  0  0  0  0  0  0  0  0  0\n",
            "  0  0  0  0  0  0  0  0  0  0  0  0200254 92  0  0  0  0  0  0  0  0  0  0  0  0  0\n",
            "  0  0  0  0  0  0  0  0  0  0  0  0199253 72  0  0  0  0  0  0  0  0  0  0  0  0  0\n",
            "  0  0  0  0  0  0  0  0  0  0  0 19226253  0  0  0  0  0  0  0  0  0  0  0  0  0  0\n",
            "  0  0  0  0  0  0  0  0  0  0  0 37253253  0  0  0  0  0  0  0  0  0  0  0  0  0  0\n",
            "  0  0  0  0  0  0  0  0  0  0  0 11182155  0  0  0  0  0  0  0  0  0  0  0  0  0  0\n",
            "  0  0  0  0  0  0  0  0  0  0  0  0  0  0  0  0  0  0  0  0  0  0  0  0  0  0  0  0\n"
          ]
        }
      ]
    },
    {
      "cell_type": "code",
      "source": [
        "import matplotlib.pyplot as pl\n",
        "pl.imshow(x)\n",
        "pl.imshow(x)"
      ],
      "metadata": {
        "colab": {
          "base_uri": "https://localhost:8080/",
          "height": 283
        },
        "id": "T7qpdonQ_78G",
        "outputId": "31159e4a-a956-44a7-eb37-15c7d56ef00a"
      },
      "execution_count": 136,
      "outputs": [
        {
          "output_type": "execute_result",
          "data": {
            "text/plain": [
              "<matplotlib.image.AxesImage at 0x7f718b15f590>"
            ]
          },
          "metadata": {},
          "execution_count": 136
        },
        {
          "output_type": "display_data",
          "data": {
            "text/plain": [
              "<Figure size 432x288 with 1 Axes>"
            ],
            "image/png": "[encoded data removed]"
          },
          "metadata": {
            "needs_background": "light"
          }
        }
      ]
    },
    {
      "cell_type": "code",
      "source": [
        "from tensorflow.keras import models\n",
        "from tensorflow.keras import layers\n",
        "\n",
        "network = models.Sequential()\n",
        "network.add(layers.Dense(512,activation=\"relu\",input_shape=(28*28,)))\n",
        "network.add(layers.Dense(256,activation=\"relu\",input_shape=(28*28,)))\n",
        "network.add(layers.Dense(10,activation='softmax'))"
      ],
      "metadata": {
        "id": "gW70XWmlAIsZ"
      },
      "execution_count": 137,
      "outputs": []
    },
    {
      "cell_type": "code",
      "source": [
        "network.compile(\n",
        "    optimizer = 'Nadam', # 指定優化器→控制梯度下降的確切規則\n",
        "    loss = 'categorical_crossentropy', # 指定損失函數\n",
        "    metrics = ['accuracy'] # 指定評量準則\n",
        ")"
      ],
      "metadata": {
        "id": "YyDPzBMiAoh4"
      },
      "execution_count": 138,
      "outputs": []
    },
    {
      "cell_type": "code",
      "source": [
        "train_images = train_images.reshape((60000,28*28))\n",
        "train_images = train_images.astype('float32')/ 255\n",
        "\n",
        "test_images = test_images.reshape((10000,28*28))\n",
        "test_images = test_images.astype('float32')/ 255"
      ],
      "metadata": {
        "id": "2ZCAS3Z3ArVo"
      },
      "execution_count": 139,
      "outputs": []
    },
    {
      "cell_type": "code",
      "source": [
        "from tensorflow.keras.utils import to_categorical\n",
        "\n",
        "train_labels = to_categorical(train_labels)\n",
        "test_labels = to_categorical(test_labels)"
      ],
      "metadata": {
        "id": "MZjHzfT0BUaJ"
      },
      "execution_count": 140,
      "outputs": []
    },
    {
      "cell_type": "code",
      "source": [
        "network.fit(train_images,train_labels,epochs=16,batch_size=128,validation_split=0.2)"
      ],
      "metadata": {
        "colab": {
          "base_uri": "https://localhost:8080/"
        },
        "id": "oxWgGBD5BVHx",
        "outputId": "fc01e692-cf3d-4e74-f9e9-363d8ae8a3cf"
      },
      "execution_count": 141,
      "outputs": [
        {
          "output_type": "stream",
          "name": "stdout",
          "text": [
            "Epoch 1/16\n",
            "375/375 [==============================] - 8s 18ms/step - loss: 0.2566 - accuracy: 0.9244 - val_loss: 0.1213 - val_accuracy: 0.9634\n",
            "Epoch 2/16\n",
            "375/375 [==============================] - 7s 17ms/step - loss: 0.0860 - accuracy: 0.9740 - val_loss: 0.1007 - val_accuracy: 0.9699\n",
            "Epoch 3/16\n",
            "375/375 [==============================] - 7s 18ms/step - loss: 0.0524 - accuracy: 0.9840 - val_loss: 0.0872 - val_accuracy: 0.9736\n",
            "Epoch 4/16\n",
            "375/375 [==============================] - 7s 18ms/step - loss: 0.0351 - accuracy: 0.9891 - val_loss: 0.0893 - val_accuracy: 0.9722\n",
            "Epoch 5/16\n",
            "375/375 [==============================] - 7s 18ms/step - loss: 0.0246 - accuracy: 0.9924 - val_loss: 0.0831 - val_accuracy: 0.9766\n",
            "Epoch 6/16\n",
            "375/375 [==============================] - 7s 19ms/step - loss: 0.0175 - accuracy: 0.9947 - val_loss: 0.0979 - val_accuracy: 0.9747\n",
            "Epoch 7/16\n",
            "375/375 [==============================] - 7s 19ms/step - loss: 0.0162 - accuracy: 0.9950 - val_loss: 0.1073 - val_accuracy: 0.9736\n",
            "Epoch 8/16\n",
            "375/375 [==============================] - 7s 19ms/step - loss: 0.0153 - accuracy: 0.9949 - val_loss: 0.1011 - val_accuracy: 0.9759\n",
            "Epoch 9/16\n",
            "375/375 [==============================] - 8s 20ms/step - loss: 0.0101 - accuracy: 0.9967 - val_loss: 0.1064 - val_accuracy: 0.9761\n",
            "Epoch 10/16\n",
            "375/375 [==============================] - 8s 21ms/step - loss: 0.0132 - accuracy: 0.9955 - val_loss: 0.1455 - val_accuracy: 0.9648\n",
            "Epoch 11/16\n",
            "375/375 [==============================] - 7s 19ms/step - loss: 0.0116 - accuracy: 0.9962 - val_loss: 0.1063 - val_accuracy: 0.9778\n",
            "Epoch 12/16\n",
            "375/375 [==============================] - 7s 19ms/step - loss: 0.0080 - accuracy: 0.9973 - val_loss: 0.1074 - val_accuracy: 0.9775\n",
            "Epoch 13/16\n",
            "375/375 [==============================] - 7s 19ms/step - loss: 0.0089 - accuracy: 0.9970 - val_loss: 0.1078 - val_accuracy: 0.9778\n",
            "Epoch 14/16\n",
            "375/375 [==============================] - 7s 19ms/step - loss: 0.0100 - accuracy: 0.9967 - val_loss: 0.1199 - val_accuracy: 0.9760\n",
            "Epoch 15/16\n",
            "375/375 [==============================] - 9s 24ms/step - loss: 0.0105 - accuracy: 0.9966 - val_loss: 0.1249 - val_accuracy: 0.9763\n",
            "Epoch 16/16\n",
            "375/375 [==============================] - 7s 19ms/step - loss: 0.0058 - accuracy: 0.9982 - val_loss: 0.1285 - val_accuracy: 0.9770\n"
          ]
        },
        {
          "output_type": "execute_result",
          "data": {
            "text/plain": [
              "<keras.callbacks.History at 0x7f718b047290>"
            ]
          },
          "metadata": {},
          "execution_count": 141
        }
      ]
    },
    {
      "cell_type": "code",
      "source": [
        "from tensorflow.keras.utils import plot_model\n",
        "network.summary()\n",
        "\n",
        "plot_model(network, \n",
        "    show_shapes= True,\n",
        ")"
      ],
      "metadata": {
        "colab": {
          "base_uri": "https://localhost:8080/",
          "height": 694
        },
        "id": "hJ0huWKZCA5z",
        "outputId": "f181d028-f377-4e5b-c48f-3755ad033ed8"
      },
      "execution_count": 142,
      "outputs": [
        {
          "output_type": "stream",
          "name": "stdout",
          "text": [
            "Model: \"sequential_9\"\n",
            "_________________________________________________________________\n",
            " Layer (type)                Output Shape              Param #   \n",
            "=================================================================\n",
            " dense_25 (Dense)            (None, 512)               401920    \n",
            "                                                                 \n",
            " dense_26 (Dense)            (None, 256)               131328    \n",
            "                                                                 \n",
            " dense_27 (Dense)            (None, 10)                2570      \n",
            "                                                                 \n",
            "=================================================================\n",
            "Total params: 535,818\n",
            "Trainable params: 535,818\n",
            "Non-trainable params: 0\n",
            "_________________________________________________________________\n"
          ]
        },
        {
          "output_type": "execute_result",
          "data": {
            "image/png": "[encoded data removed]",
            "text/plain": [
              "<IPython.core.display.Image object>"
            ]
          },
          "metadata": {},
          "execution_count": 142
        }
      ]
    },
    {
      "cell_type": "code",
      "source": [
        "test_loss , test_acc = network.evaluate(test_images,test_labels)\n",
        "print('test_acc:',test_acc)"
      ],
      "metadata": {
        "colab": {
          "base_uri": "https://localhost:8080/"
        },
        "id": "qalbfvFWCFfz",
        "outputId": "a343544c-f03b-4980-f183-cdec6855caa4"
      },
      "execution_count": 143,
      "outputs": [
        {
          "output_type": "stream",
          "name": "stdout",
          "text": [
            "313/313 [==============================] - 1s 4ms/step - loss: 0.0985 - accuracy: 0.9800\n",
            "test_acc: 0.9800000190734863\n"
          ]
        }
      ]
    }
  ]
}